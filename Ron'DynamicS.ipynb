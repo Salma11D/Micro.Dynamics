{
  "nbformat": 4,
  "nbformat_minor": 0,
  "metadata": {
    "colab": {
      "provenance": [],
      "include_colab_link": true
    },
    "kernelspec": {
      "name": "python3",
      "display_name": "Python 3"
    },
    "language_info": {
      "name": "python"
    },
    "widgets": {
      "application/vnd.jupyter.widget-state+json": {
        "381cc95cc7f0483da754742950012cf7": {
          "model_module": "@jupyter-widgets/controls",
          "model_name": "IntTextModel",
          "model_module_version": "1.5.0",
          "state": {
            "_dom_classes": [],
            "_model_module": "@jupyter-widgets/controls",
            "_model_module_version": "1.5.0",
            "_model_name": "IntTextModel",
            "_view_count": null,
            "_view_module": "@jupyter-widgets/controls",
            "_view_module_version": "1.5.0",
            "_view_name": "IntTextView",
            "continuous_update": false,
            "description": "Filas:",
            "description_tooltip": null,
            "disabled": false,
            "layout": "IPY_MODEL_1c8d161cf3414057a842cc8c6f25e783",
            "step": 1,
            "style": "IPY_MODEL_dde86496fe5e40d8b194e09340b8689f",
            "value": 2
          }
        },
        "1c8d161cf3414057a842cc8c6f25e783": {
          "model_module": "@jupyter-widgets/base",
          "model_name": "LayoutModel",
          "model_module_version": "1.2.0",
          "state": {
            "_model_module": "@jupyter-widgets/base",
            "_model_module_version": "1.2.0",
            "_model_name": "LayoutModel",
            "_view_count": null,
            "_view_module": "@jupyter-widgets/base",
            "_view_module_version": "1.2.0",
            "_view_name": "LayoutView",
            "align_content": null,
            "align_items": null,
            "align_self": null,
            "border": null,
            "bottom": null,
            "display": null,
            "flex": null,
            "flex_flow": null,
            "grid_area": null,
            "grid_auto_columns": null,
            "grid_auto_flow": null,
            "grid_auto_rows": null,
            "grid_column": null,
            "grid_gap": null,
            "grid_row": null,
            "grid_template_areas": null,
            "grid_template_columns": null,
            "grid_template_rows": null,
            "height": null,
            "justify_content": null,
            "justify_items": null,
            "left": null,
            "margin": null,
            "max_height": null,
            "max_width": null,
            "min_height": null,
            "min_width": null,
            "object_fit": null,
            "object_position": null,
            "order": null,
            "overflow": null,
            "overflow_x": null,
            "overflow_y": null,
            "padding": null,
            "right": null,
            "top": null,
            "visibility": null,
            "width": "200px"
          }
        },
        "dde86496fe5e40d8b194e09340b8689f": {
          "model_module": "@jupyter-widgets/controls",
          "model_name": "DescriptionStyleModel",
          "model_module_version": "1.5.0",
          "state": {
            "_model_module": "@jupyter-widgets/controls",
            "_model_module_version": "1.5.0",
            "_model_name": "DescriptionStyleModel",
            "_view_count": null,
            "_view_module": "@jupyter-widgets/base",
            "_view_module_version": "1.2.0",
            "_view_name": "StyleView",
            "description_width": ""
          }
        },
        "ed76244ef1aa451984af466218012c84": {
          "model_module": "@jupyter-widgets/controls",
          "model_name": "IntTextModel",
          "model_module_version": "1.5.0",
          "state": {
            "_dom_classes": [],
            "_model_module": "@jupyter-widgets/controls",
            "_model_module_version": "1.5.0",
            "_model_name": "IntTextModel",
            "_view_count": null,
            "_view_module": "@jupyter-widgets/controls",
            "_view_module_version": "1.5.0",
            "_view_name": "IntTextView",
            "continuous_update": false,
            "description": "Columnas:",
            "description_tooltip": null,
            "disabled": false,
            "layout": "IPY_MODEL_5ab8e3524225442b952413318e07fd1f",
            "step": 1,
            "style": "IPY_MODEL_eecf53cd4d5f4e7d93015b8b5f3f66d0",
            "value": 2
          }
        },
        "5ab8e3524225442b952413318e07fd1f": {
          "model_module": "@jupyter-widgets/base",
          "model_name": "LayoutModel",
          "model_module_version": "1.2.0",
          "state": {
            "_model_module": "@jupyter-widgets/base",
            "_model_module_version": "1.2.0",
            "_model_name": "LayoutModel",
            "_view_count": null,
            "_view_module": "@jupyter-widgets/base",
            "_view_module_version": "1.2.0",
            "_view_name": "LayoutView",
            "align_content": null,
            "align_items": null,
            "align_self": null,
            "border": null,
            "bottom": null,
            "display": null,
            "flex": null,
            "flex_flow": null,
            "grid_area": null,
            "grid_auto_columns": null,
            "grid_auto_flow": null,
            "grid_auto_rows": null,
            "grid_column": null,
            "grid_gap": null,
            "grid_row": null,
            "grid_template_areas": null,
            "grid_template_columns": null,
            "grid_template_rows": null,
            "height": null,
            "justify_content": null,
            "justify_items": null,
            "left": null,
            "margin": null,
            "max_height": null,
            "max_width": null,
            "min_height": null,
            "min_width": null,
            "object_fit": null,
            "object_position": null,
            "order": null,
            "overflow": null,
            "overflow_x": null,
            "overflow_y": null,
            "padding": null,
            "right": null,
            "top": null,
            "visibility": null,
            "width": "200px"
          }
        },
        "eecf53cd4d5f4e7d93015b8b5f3f66d0": {
          "model_module": "@jupyter-widgets/controls",
          "model_name": "DescriptionStyleModel",
          "model_module_version": "1.5.0",
          "state": {
            "_model_module": "@jupyter-widgets/controls",
            "_model_module_version": "1.5.0",
            "_model_name": "DescriptionStyleModel",
            "_view_count": null,
            "_view_module": "@jupyter-widgets/base",
            "_view_module_version": "1.2.0",
            "_view_name": "StyleView",
            "description_width": ""
          }
        },
        "bba3547684d64964a9174b851227dc99": {
          "model_module": "@jupyter-widgets/controls",
          "model_name": "ButtonModel",
          "model_module_version": "1.5.0",
          "state": {
            "_dom_classes": [],
            "_model_module": "@jupyter-widgets/controls",
            "_model_module_version": "1.5.0",
            "_model_name": "ButtonModel",
            "_view_count": null,
            "_view_module": "@jupyter-widgets/controls",
            "_view_module_version": "1.5.0",
            "_view_name": "ButtonView",
            "button_style": "",
            "description": "Confirmar dimensiones",
            "disabled": false,
            "icon": "",
            "layout": "IPY_MODEL_70c1908a6b2a49d28f8ea717075e3931",
            "style": "IPY_MODEL_fc245e9aa3dd4ac483607fe640bbfd3f",
            "tooltip": ""
          }
        },
        "70c1908a6b2a49d28f8ea717075e3931": {
          "model_module": "@jupyter-widgets/base",
          "model_name": "LayoutModel",
          "model_module_version": "1.2.0",
          "state": {
            "_model_module": "@jupyter-widgets/base",
            "_model_module_version": "1.2.0",
            "_model_name": "LayoutModel",
            "_view_count": null,
            "_view_module": "@jupyter-widgets/base",
            "_view_module_version": "1.2.0",
            "_view_name": "LayoutView",
            "align_content": null,
            "align_items": null,
            "align_self": null,
            "border": null,
            "bottom": null,
            "display": null,
            "flex": null,
            "flex_flow": null,
            "grid_area": null,
            "grid_auto_columns": null,
            "grid_auto_flow": null,
            "grid_auto_rows": null,
            "grid_column": null,
            "grid_gap": null,
            "grid_row": null,
            "grid_template_areas": null,
            "grid_template_columns": null,
            "grid_template_rows": null,
            "height": null,
            "justify_content": null,
            "justify_items": null,
            "left": null,
            "margin": null,
            "max_height": null,
            "max_width": null,
            "min_height": null,
            "min_width": null,
            "object_fit": null,
            "object_position": null,
            "order": null,
            "overflow": null,
            "overflow_x": null,
            "overflow_y": null,
            "padding": null,
            "right": null,
            "top": null,
            "visibility": null,
            "width": null
          }
        },
        "fc245e9aa3dd4ac483607fe640bbfd3f": {
          "model_module": "@jupyter-widgets/controls",
          "model_name": "ButtonStyleModel",
          "model_module_version": "1.5.0",
          "state": {
            "_model_module": "@jupyter-widgets/controls",
            "_model_module_version": "1.5.0",
            "_model_name": "ButtonStyleModel",
            "_view_count": null,
            "_view_module": "@jupyter-widgets/base",
            "_view_module_version": "1.2.0",
            "_view_name": "StyleView",
            "button_color": null,
            "font_weight": ""
          }
        },
        "353ebfb9b02d4dcfbf425015b7d585b2": {
          "model_module": "@jupyter-widgets/controls",
          "model_name": "HBoxModel",
          "model_module_version": "1.5.0",
          "state": {
            "_dom_classes": [],
            "_model_module": "@jupyter-widgets/controls",
            "_model_module_version": "1.5.0",
            "_model_name": "HBoxModel",
            "_view_count": null,
            "_view_module": "@jupyter-widgets/controls",
            "_view_module_version": "1.5.0",
            "_view_name": "HBoxView",
            "box_style": "",
            "children": [
              "IPY_MODEL_4df7d8bfe67e4480aa13918b251cfa7c",
              "IPY_MODEL_dec291bdb8bc46c4895e4aff43088159"
            ],
            "layout": "IPY_MODEL_93a1d6745a97466a9221aa6b00218217"
          }
        },
        "4df7d8bfe67e4480aa13918b251cfa7c": {
          "model_module": "@jupyter-widgets/controls",
          "model_name": "FloatTextModel",
          "model_module_version": "1.5.0",
          "state": {
            "_dom_classes": [],
            "_model_module": "@jupyter-widgets/controls",
            "_model_module_version": "1.5.0",
            "_model_name": "FloatTextModel",
            "_view_count": null,
            "_view_module": "@jupyter-widgets/controls",
            "_view_module_version": "1.5.0",
            "_view_name": "FloatTextView",
            "continuous_update": false,
            "description": "A[1,1]",
            "description_tooltip": null,
            "disabled": false,
            "layout": "IPY_MODEL_42be7f14779d41a1abbc7fc0bd59c9da",
            "step": null,
            "style": "IPY_MODEL_2264c1a9dea74cbba56fdd95eab672e1",
            "value": 2
          }
        },
        "dec291bdb8bc46c4895e4aff43088159": {
          "model_module": "@jupyter-widgets/controls",
          "model_name": "FloatTextModel",
          "model_module_version": "1.5.0",
          "state": {
            "_dom_classes": [],
            "_model_module": "@jupyter-widgets/controls",
            "_model_module_version": "1.5.0",
            "_model_name": "FloatTextModel",
            "_view_count": null,
            "_view_module": "@jupyter-widgets/controls",
            "_view_module_version": "1.5.0",
            "_view_name": "FloatTextView",
            "continuous_update": false,
            "description": "A[1,2]",
            "description_tooltip": null,
            "disabled": false,
            "layout": "IPY_MODEL_dc07a8744a664a4d8d332e06aa978353",
            "step": null,
            "style": "IPY_MODEL_e452ac2fa2ad4978ace031cac5a82c2b",
            "value": -1
          }
        },
        "93a1d6745a97466a9221aa6b00218217": {
          "model_module": "@jupyter-widgets/base",
          "model_name": "LayoutModel",
          "model_module_version": "1.2.0",
          "state": {
            "_model_module": "@jupyter-widgets/base",
            "_model_module_version": "1.2.0",
            "_model_name": "LayoutModel",
            "_view_count": null,
            "_view_module": "@jupyter-widgets/base",
            "_view_module_version": "1.2.0",
            "_view_name": "LayoutView",
            "align_content": null,
            "align_items": null,
            "align_self": null,
            "border": null,
            "bottom": null,
            "display": null,
            "flex": null,
            "flex_flow": null,
            "grid_area": null,
            "grid_auto_columns": null,
            "grid_auto_flow": null,
            "grid_auto_rows": null,
            "grid_column": null,
            "grid_gap": null,
            "grid_row": null,
            "grid_template_areas": null,
            "grid_template_columns": null,
            "grid_template_rows": null,
            "height": null,
            "justify_content": null,
            "justify_items": null,
            "left": null,
            "margin": null,
            "max_height": null,
            "max_width": null,
            "min_height": null,
            "min_width": null,
            "object_fit": null,
            "object_position": null,
            "order": null,
            "overflow": null,
            "overflow_x": null,
            "overflow_y": null,
            "padding": null,
            "right": null,
            "top": null,
            "visibility": null,
            "width": null
          }
        },
        "42be7f14779d41a1abbc7fc0bd59c9da": {
          "model_module": "@jupyter-widgets/base",
          "model_name": "LayoutModel",
          "model_module_version": "1.2.0",
          "state": {
            "_model_module": "@jupyter-widgets/base",
            "_model_module_version": "1.2.0",
            "_model_name": "LayoutModel",
            "_view_count": null,
            "_view_module": "@jupyter-widgets/base",
            "_view_module_version": "1.2.0",
            "_view_name": "LayoutView",
            "align_content": null,
            "align_items": null,
            "align_self": null,
            "border": null,
            "bottom": null,
            "display": null,
            "flex": null,
            "flex_flow": null,
            "grid_area": null,
            "grid_auto_columns": null,
            "grid_auto_flow": null,
            "grid_auto_rows": null,
            "grid_column": null,
            "grid_gap": null,
            "grid_row": null,
            "grid_template_areas": null,
            "grid_template_columns": null,
            "grid_template_rows": null,
            "height": null,
            "justify_content": null,
            "justify_items": null,
            "left": null,
            "margin": null,
            "max_height": null,
            "max_width": null,
            "min_height": null,
            "min_width": null,
            "object_fit": null,
            "object_position": null,
            "order": null,
            "overflow": null,
            "overflow_x": null,
            "overflow_y": null,
            "padding": null,
            "right": null,
            "top": null,
            "visibility": null,
            "width": "150px"
          }
        },
        "2264c1a9dea74cbba56fdd95eab672e1": {
          "model_module": "@jupyter-widgets/controls",
          "model_name": "DescriptionStyleModel",
          "model_module_version": "1.5.0",
          "state": {
            "_model_module": "@jupyter-widgets/controls",
            "_model_module_version": "1.5.0",
            "_model_name": "DescriptionStyleModel",
            "_view_count": null,
            "_view_module": "@jupyter-widgets/base",
            "_view_module_version": "1.2.0",
            "_view_name": "StyleView",
            "description_width": ""
          }
        },
        "dc07a8744a664a4d8d332e06aa978353": {
          "model_module": "@jupyter-widgets/base",
          "model_name": "LayoutModel",
          "model_module_version": "1.2.0",
          "state": {
            "_model_module": "@jupyter-widgets/base",
            "_model_module_version": "1.2.0",
            "_model_name": "LayoutModel",
            "_view_count": null,
            "_view_module": "@jupyter-widgets/base",
            "_view_module_version": "1.2.0",
            "_view_name": "LayoutView",
            "align_content": null,
            "align_items": null,
            "align_self": null,
            "border": null,
            "bottom": null,
            "display": null,
            "flex": null,
            "flex_flow": null,
            "grid_area": null,
            "grid_auto_columns": null,
            "grid_auto_flow": null,
            "grid_auto_rows": null,
            "grid_column": null,
            "grid_gap": null,
            "grid_row": null,
            "grid_template_areas": null,
            "grid_template_columns": null,
            "grid_template_rows": null,
            "height": null,
            "justify_content": null,
            "justify_items": null,
            "left": null,
            "margin": null,
            "max_height": null,
            "max_width": null,
            "min_height": null,
            "min_width": null,
            "object_fit": null,
            "object_position": null,
            "order": null,
            "overflow": null,
            "overflow_x": null,
            "overflow_y": null,
            "padding": null,
            "right": null,
            "top": null,
            "visibility": null,
            "width": "150px"
          }
        },
        "e452ac2fa2ad4978ace031cac5a82c2b": {
          "model_module": "@jupyter-widgets/controls",
          "model_name": "DescriptionStyleModel",
          "model_module_version": "1.5.0",
          "state": {
            "_model_module": "@jupyter-widgets/controls",
            "_model_module_version": "1.5.0",
            "_model_name": "DescriptionStyleModel",
            "_view_count": null,
            "_view_module": "@jupyter-widgets/base",
            "_view_module_version": "1.2.0",
            "_view_name": "StyleView",
            "description_width": ""
          }
        },
        "bee275a185584559ba07bf55e65d03f6": {
          "model_module": "@jupyter-widgets/controls",
          "model_name": "HBoxModel",
          "model_module_version": "1.5.0",
          "state": {
            "_dom_classes": [],
            "_model_module": "@jupyter-widgets/controls",
            "_model_module_version": "1.5.0",
            "_model_name": "HBoxModel",
            "_view_count": null,
            "_view_module": "@jupyter-widgets/controls",
            "_view_module_version": "1.5.0",
            "_view_name": "HBoxView",
            "box_style": "",
            "children": [
              "IPY_MODEL_a2805839265947c1bb0b6f41abf88d19",
              "IPY_MODEL_ddc2ca11822e46d999d476b175ef641e"
            ],
            "layout": "IPY_MODEL_c568c999239241cd849ab39a15eb80a3"
          }
        },
        "a2805839265947c1bb0b6f41abf88d19": {
          "model_module": "@jupyter-widgets/controls",
          "model_name": "FloatTextModel",
          "model_module_version": "1.5.0",
          "state": {
            "_dom_classes": [],
            "_model_module": "@jupyter-widgets/controls",
            "_model_module_version": "1.5.0",
            "_model_name": "FloatTextModel",
            "_view_count": null,
            "_view_module": "@jupyter-widgets/controls",
            "_view_module_version": "1.5.0",
            "_view_name": "FloatTextView",
            "continuous_update": false,
            "description": "A[2,1]",
            "description_tooltip": null,
            "disabled": false,
            "layout": "IPY_MODEL_4b1afec1951d470c91495128041a75d2",
            "step": null,
            "style": "IPY_MODEL_685b606cc60f495db6e2c9c62769015e",
            "value": 3
          }
        },
        "ddc2ca11822e46d999d476b175ef641e": {
          "model_module": "@jupyter-widgets/controls",
          "model_name": "FloatTextModel",
          "model_module_version": "1.5.0",
          "state": {
            "_dom_classes": [],
            "_model_module": "@jupyter-widgets/controls",
            "_model_module_version": "1.5.0",
            "_model_name": "FloatTextModel",
            "_view_count": null,
            "_view_module": "@jupyter-widgets/controls",
            "_view_module_version": "1.5.0",
            "_view_name": "FloatTextView",
            "continuous_update": false,
            "description": "A[2,2]",
            "description_tooltip": null,
            "disabled": false,
            "layout": "IPY_MODEL_4ce2814ded714e40bf2b450198b00734",
            "step": null,
            "style": "IPY_MODEL_fe431b62aabf4828b2a6a3e684893f97",
            "value": 4
          }
        },
        "c568c999239241cd849ab39a15eb80a3": {
          "model_module": "@jupyter-widgets/base",
          "model_name": "LayoutModel",
          "model_module_version": "1.2.0",
          "state": {
            "_model_module": "@jupyter-widgets/base",
            "_model_module_version": "1.2.0",
            "_model_name": "LayoutModel",
            "_view_count": null,
            "_view_module": "@jupyter-widgets/base",
            "_view_module_version": "1.2.0",
            "_view_name": "LayoutView",
            "align_content": null,
            "align_items": null,
            "align_self": null,
            "border": null,
            "bottom": null,
            "display": null,
            "flex": null,
            "flex_flow": null,
            "grid_area": null,
            "grid_auto_columns": null,
            "grid_auto_flow": null,
            "grid_auto_rows": null,
            "grid_column": null,
            "grid_gap": null,
            "grid_row": null,
            "grid_template_areas": null,
            "grid_template_columns": null,
            "grid_template_rows": null,
            "height": null,
            "justify_content": null,
            "justify_items": null,
            "left": null,
            "margin": null,
            "max_height": null,
            "max_width": null,
            "min_height": null,
            "min_width": null,
            "object_fit": null,
            "object_position": null,
            "order": null,
            "overflow": null,
            "overflow_x": null,
            "overflow_y": null,
            "padding": null,
            "right": null,
            "top": null,
            "visibility": null,
            "width": null
          }
        },
        "4b1afec1951d470c91495128041a75d2": {
          "model_module": "@jupyter-widgets/base",
          "model_name": "LayoutModel",
          "model_module_version": "1.2.0",
          "state": {
            "_model_module": "@jupyter-widgets/base",
            "_model_module_version": "1.2.0",
            "_model_name": "LayoutModel",
            "_view_count": null,
            "_view_module": "@jupyter-widgets/base",
            "_view_module_version": "1.2.0",
            "_view_name": "LayoutView",
            "align_content": null,
            "align_items": null,
            "align_self": null,
            "border": null,
            "bottom": null,
            "display": null,
            "flex": null,
            "flex_flow": null,
            "grid_area": null,
            "grid_auto_columns": null,
            "grid_auto_flow": null,
            "grid_auto_rows": null,
            "grid_column": null,
            "grid_gap": null,
            "grid_row": null,
            "grid_template_areas": null,
            "grid_template_columns": null,
            "grid_template_rows": null,
            "height": null,
            "justify_content": null,
            "justify_items": null,
            "left": null,
            "margin": null,
            "max_height": null,
            "max_width": null,
            "min_height": null,
            "min_width": null,
            "object_fit": null,
            "object_position": null,
            "order": null,
            "overflow": null,
            "overflow_x": null,
            "overflow_y": null,
            "padding": null,
            "right": null,
            "top": null,
            "visibility": null,
            "width": "150px"
          }
        },
        "685b606cc60f495db6e2c9c62769015e": {
          "model_module": "@jupyter-widgets/controls",
          "model_name": "DescriptionStyleModel",
          "model_module_version": "1.5.0",
          "state": {
            "_model_module": "@jupyter-widgets/controls",
            "_model_module_version": "1.5.0",
            "_model_name": "DescriptionStyleModel",
            "_view_count": null,
            "_view_module": "@jupyter-widgets/base",
            "_view_module_version": "1.2.0",
            "_view_name": "StyleView",
            "description_width": ""
          }
        },
        "4ce2814ded714e40bf2b450198b00734": {
          "model_module": "@jupyter-widgets/base",
          "model_name": "LayoutModel",
          "model_module_version": "1.2.0",
          "state": {
            "_model_module": "@jupyter-widgets/base",
            "_model_module_version": "1.2.0",
            "_model_name": "LayoutModel",
            "_view_count": null,
            "_view_module": "@jupyter-widgets/base",
            "_view_module_version": "1.2.0",
            "_view_name": "LayoutView",
            "align_content": null,
            "align_items": null,
            "align_self": null,
            "border": null,
            "bottom": null,
            "display": null,
            "flex": null,
            "flex_flow": null,
            "grid_area": null,
            "grid_auto_columns": null,
            "grid_auto_flow": null,
            "grid_auto_rows": null,
            "grid_column": null,
            "grid_gap": null,
            "grid_row": null,
            "grid_template_areas": null,
            "grid_template_columns": null,
            "grid_template_rows": null,
            "height": null,
            "justify_content": null,
            "justify_items": null,
            "left": null,
            "margin": null,
            "max_height": null,
            "max_width": null,
            "min_height": null,
            "min_width": null,
            "object_fit": null,
            "object_position": null,
            "order": null,
            "overflow": null,
            "overflow_x": null,
            "overflow_y": null,
            "padding": null,
            "right": null,
            "top": null,
            "visibility": null,
            "width": "150px"
          }
        },
        "fe431b62aabf4828b2a6a3e684893f97": {
          "model_module": "@jupyter-widgets/controls",
          "model_name": "DescriptionStyleModel",
          "model_module_version": "1.5.0",
          "state": {
            "_model_module": "@jupyter-widgets/controls",
            "_model_module_version": "1.5.0",
            "_model_name": "DescriptionStyleModel",
            "_view_count": null,
            "_view_module": "@jupyter-widgets/base",
            "_view_module_version": "1.2.0",
            "_view_name": "StyleView",
            "description_width": ""
          }
        },
        "1f72fbeb1ecb4496abab8391d076b707": {
          "model_module": "@jupyter-widgets/controls",
          "model_name": "ButtonModel",
          "model_module_version": "1.5.0",
          "state": {
            "_dom_classes": [],
            "_model_module": "@jupyter-widgets/controls",
            "_model_module_version": "1.5.0",
            "_model_name": "ButtonModel",
            "_view_count": null,
            "_view_module": "@jupyter-widgets/controls",
            "_view_module_version": "1.5.0",
            "_view_name": "ButtonView",
            "button_style": "",
            "description": "Confirmar valores",
            "disabled": false,
            "icon": "",
            "layout": "IPY_MODEL_bb73440f022b48b9958acdf8d99d3124",
            "style": "IPY_MODEL_7cfebff2be0344abbdb9e7a81ca71ac1",
            "tooltip": ""
          }
        },
        "bb73440f022b48b9958acdf8d99d3124": {
          "model_module": "@jupyter-widgets/base",
          "model_name": "LayoutModel",
          "model_module_version": "1.2.0",
          "state": {
            "_model_module": "@jupyter-widgets/base",
            "_model_module_version": "1.2.0",
            "_model_name": "LayoutModel",
            "_view_count": null,
            "_view_module": "@jupyter-widgets/base",
            "_view_module_version": "1.2.0",
            "_view_name": "LayoutView",
            "align_content": null,
            "align_items": null,
            "align_self": null,
            "border": null,
            "bottom": null,
            "display": null,
            "flex": null,
            "flex_flow": null,
            "grid_area": null,
            "grid_auto_columns": null,
            "grid_auto_flow": null,
            "grid_auto_rows": null,
            "grid_column": null,
            "grid_gap": null,
            "grid_row": null,
            "grid_template_areas": null,
            "grid_template_columns": null,
            "grid_template_rows": null,
            "height": null,
            "justify_content": null,
            "justify_items": null,
            "left": null,
            "margin": null,
            "max_height": null,
            "max_width": null,
            "min_height": null,
            "min_width": null,
            "object_fit": null,
            "object_position": null,
            "order": null,
            "overflow": null,
            "overflow_x": null,
            "overflow_y": null,
            "padding": null,
            "right": null,
            "top": null,
            "visibility": null,
            "width": null
          }
        },
        "7cfebff2be0344abbdb9e7a81ca71ac1": {
          "model_module": "@jupyter-widgets/controls",
          "model_name": "ButtonStyleModel",
          "model_module_version": "1.5.0",
          "state": {
            "_model_module": "@jupyter-widgets/controls",
            "_model_module_version": "1.5.0",
            "_model_name": "ButtonStyleModel",
            "_view_count": null,
            "_view_module": "@jupyter-widgets/base",
            "_view_module_version": "1.2.0",
            "_view_name": "StyleView",
            "button_color": null,
            "font_weight": ""
          }
        },
        "b6231fff9b824ba386a03ad87bf96100": {
          "model_module": "@jupyter-widgets/controls",
          "model_name": "IntTextModel",
          "model_module_version": "1.5.0",
          "state": {
            "_dom_classes": [],
            "_model_module": "@jupyter-widgets/controls",
            "_model_module_version": "1.5.0",
            "_model_name": "IntTextModel",
            "_view_count": null,
            "_view_module": "@jupyter-widgets/controls",
            "_view_module_version": "1.5.0",
            "_view_name": "IntTextView",
            "continuous_update": false,
            "description": "Filas:",
            "description_tooltip": null,
            "disabled": false,
            "layout": "IPY_MODEL_a25ab529ae4a4b099a691f0c7166505f",
            "step": 1,
            "style": "IPY_MODEL_394eace12f3a4aa7bccf679900a734ab",
            "value": 2
          }
        },
        "a25ab529ae4a4b099a691f0c7166505f": {
          "model_module": "@jupyter-widgets/base",
          "model_name": "LayoutModel",
          "model_module_version": "1.2.0",
          "state": {
            "_model_module": "@jupyter-widgets/base",
            "_model_module_version": "1.2.0",
            "_model_name": "LayoutModel",
            "_view_count": null,
            "_view_module": "@jupyter-widgets/base",
            "_view_module_version": "1.2.0",
            "_view_name": "LayoutView",
            "align_content": null,
            "align_items": null,
            "align_self": null,
            "border": null,
            "bottom": null,
            "display": null,
            "flex": null,
            "flex_flow": null,
            "grid_area": null,
            "grid_auto_columns": null,
            "grid_auto_flow": null,
            "grid_auto_rows": null,
            "grid_column": null,
            "grid_gap": null,
            "grid_row": null,
            "grid_template_areas": null,
            "grid_template_columns": null,
            "grid_template_rows": null,
            "height": null,
            "justify_content": null,
            "justify_items": null,
            "left": null,
            "margin": null,
            "max_height": null,
            "max_width": null,
            "min_height": null,
            "min_width": null,
            "object_fit": null,
            "object_position": null,
            "order": null,
            "overflow": null,
            "overflow_x": null,
            "overflow_y": null,
            "padding": null,
            "right": null,
            "top": null,
            "visibility": null,
            "width": "200px"
          }
        },
        "394eace12f3a4aa7bccf679900a734ab": {
          "model_module": "@jupyter-widgets/controls",
          "model_name": "DescriptionStyleModel",
          "model_module_version": "1.5.0",
          "state": {
            "_model_module": "@jupyter-widgets/controls",
            "_model_module_version": "1.5.0",
            "_model_name": "DescriptionStyleModel",
            "_view_count": null,
            "_view_module": "@jupyter-widgets/base",
            "_view_module_version": "1.2.0",
            "_view_name": "StyleView",
            "description_width": ""
          }
        },
        "4bfd9e4e8e5649a4992cd0becbb29802": {
          "model_module": "@jupyter-widgets/controls",
          "model_name": "IntTextModel",
          "model_module_version": "1.5.0",
          "state": {
            "_dom_classes": [],
            "_model_module": "@jupyter-widgets/controls",
            "_model_module_version": "1.5.0",
            "_model_name": "IntTextModel",
            "_view_count": null,
            "_view_module": "@jupyter-widgets/controls",
            "_view_module_version": "1.5.0",
            "_view_name": "IntTextView",
            "continuous_update": false,
            "description": "Columnas:",
            "description_tooltip": null,
            "disabled": false,
            "layout": "IPY_MODEL_fae72a6438464095843c5589707088ef",
            "step": 1,
            "style": "IPY_MODEL_a639969fef5b4b70b02881e9fb0227cc",
            "value": 2
          }
        },
        "fae72a6438464095843c5589707088ef": {
          "model_module": "@jupyter-widgets/base",
          "model_name": "LayoutModel",
          "model_module_version": "1.2.0",
          "state": {
            "_model_module": "@jupyter-widgets/base",
            "_model_module_version": "1.2.0",
            "_model_name": "LayoutModel",
            "_view_count": null,
            "_view_module": "@jupyter-widgets/base",
            "_view_module_version": "1.2.0",
            "_view_name": "LayoutView",
            "align_content": null,
            "align_items": null,
            "align_self": null,
            "border": null,
            "bottom": null,
            "display": null,
            "flex": null,
            "flex_flow": null,
            "grid_area": null,
            "grid_auto_columns": null,
            "grid_auto_flow": null,
            "grid_auto_rows": null,
            "grid_column": null,
            "grid_gap": null,
            "grid_row": null,
            "grid_template_areas": null,
            "grid_template_columns": null,
            "grid_template_rows": null,
            "height": null,
            "justify_content": null,
            "justify_items": null,
            "left": null,
            "margin": null,
            "max_height": null,
            "max_width": null,
            "min_height": null,
            "min_width": null,
            "object_fit": null,
            "object_position": null,
            "order": null,
            "overflow": null,
            "overflow_x": null,
            "overflow_y": null,
            "padding": null,
            "right": null,
            "top": null,
            "visibility": null,
            "width": "200px"
          }
        },
        "a639969fef5b4b70b02881e9fb0227cc": {
          "model_module": "@jupyter-widgets/controls",
          "model_name": "DescriptionStyleModel",
          "model_module_version": "1.5.0",
          "state": {
            "_model_module": "@jupyter-widgets/controls",
            "_model_module_version": "1.5.0",
            "_model_name": "DescriptionStyleModel",
            "_view_count": null,
            "_view_module": "@jupyter-widgets/base",
            "_view_module_version": "1.2.0",
            "_view_name": "StyleView",
            "description_width": ""
          }
        },
        "cf2ee917084a4ba6b49fbfa4459d3757": {
          "model_module": "@jupyter-widgets/controls",
          "model_name": "ButtonModel",
          "model_module_version": "1.5.0",
          "state": {
            "_dom_classes": [],
            "_model_module": "@jupyter-widgets/controls",
            "_model_module_version": "1.5.0",
            "_model_name": "ButtonModel",
            "_view_count": null,
            "_view_module": "@jupyter-widgets/controls",
            "_view_module_version": "1.5.0",
            "_view_name": "ButtonView",
            "button_style": "",
            "description": "Confirmar dimensiones",
            "disabled": false,
            "icon": "",
            "layout": "IPY_MODEL_e41f9fb90808425cacbdb567a944ee6a",
            "style": "IPY_MODEL_4fdf56df02bd46f28f77f931d74f6a88",
            "tooltip": ""
          }
        },
        "e41f9fb90808425cacbdb567a944ee6a": {
          "model_module": "@jupyter-widgets/base",
          "model_name": "LayoutModel",
          "model_module_version": "1.2.0",
          "state": {
            "_model_module": "@jupyter-widgets/base",
            "_model_module_version": "1.2.0",
            "_model_name": "LayoutModel",
            "_view_count": null,
            "_view_module": "@jupyter-widgets/base",
            "_view_module_version": "1.2.0",
            "_view_name": "LayoutView",
            "align_content": null,
            "align_items": null,
            "align_self": null,
            "border": null,
            "bottom": null,
            "display": null,
            "flex": null,
            "flex_flow": null,
            "grid_area": null,
            "grid_auto_columns": null,
            "grid_auto_flow": null,
            "grid_auto_rows": null,
            "grid_column": null,
            "grid_gap": null,
            "grid_row": null,
            "grid_template_areas": null,
            "grid_template_columns": null,
            "grid_template_rows": null,
            "height": null,
            "justify_content": null,
            "justify_items": null,
            "left": null,
            "margin": null,
            "max_height": null,
            "max_width": null,
            "min_height": null,
            "min_width": null,
            "object_fit": null,
            "object_position": null,
            "order": null,
            "overflow": null,
            "overflow_x": null,
            "overflow_y": null,
            "padding": null,
            "right": null,
            "top": null,
            "visibility": null,
            "width": null
          }
        },
        "4fdf56df02bd46f28f77f931d74f6a88": {
          "model_module": "@jupyter-widgets/controls",
          "model_name": "ButtonStyleModel",
          "model_module_version": "1.5.0",
          "state": {
            "_model_module": "@jupyter-widgets/controls",
            "_model_module_version": "1.5.0",
            "_model_name": "ButtonStyleModel",
            "_view_count": null,
            "_view_module": "@jupyter-widgets/base",
            "_view_module_version": "1.2.0",
            "_view_name": "StyleView",
            "button_color": null,
            "font_weight": ""
          }
        },
        "729922825c974a27ad7f21e81ea6f945": {
          "model_module": "@jupyter-widgets/controls",
          "model_name": "HBoxModel",
          "model_module_version": "1.5.0",
          "state": {
            "_dom_classes": [],
            "_model_module": "@jupyter-widgets/controls",
            "_model_module_version": "1.5.0",
            "_model_name": "HBoxModel",
            "_view_count": null,
            "_view_module": "@jupyter-widgets/controls",
            "_view_module_version": "1.5.0",
            "_view_name": "HBoxView",
            "box_style": "",
            "children": [
              "IPY_MODEL_b0f64619f0e249cdbb833abf5cad4236",
              "IPY_MODEL_a832bf49923a47ebaa46f7b9882fcf43"
            ],
            "layout": "IPY_MODEL_ee3b604abaca4612a449b14689b0d958"
          }
        },
        "b0f64619f0e249cdbb833abf5cad4236": {
          "model_module": "@jupyter-widgets/controls",
          "model_name": "FloatTextModel",
          "model_module_version": "1.5.0",
          "state": {
            "_dom_classes": [],
            "_model_module": "@jupyter-widgets/controls",
            "_model_module_version": "1.5.0",
            "_model_name": "FloatTextModel",
            "_view_count": null,
            "_view_module": "@jupyter-widgets/controls",
            "_view_module_version": "1.5.0",
            "_view_name": "FloatTextView",
            "continuous_update": false,
            "description": "A[1,1]",
            "description_tooltip": null,
            "disabled": false,
            "layout": "IPY_MODEL_ea1e061267b4483b90bdbdd8d811bec8",
            "step": null,
            "style": "IPY_MODEL_9822e69393e54efe9595eafb8d749297",
            "value": 2
          }
        },
        "a832bf49923a47ebaa46f7b9882fcf43": {
          "model_module": "@jupyter-widgets/controls",
          "model_name": "FloatTextModel",
          "model_module_version": "1.5.0",
          "state": {
            "_dom_classes": [],
            "_model_module": "@jupyter-widgets/controls",
            "_model_module_version": "1.5.0",
            "_model_name": "FloatTextModel",
            "_view_count": null,
            "_view_module": "@jupyter-widgets/controls",
            "_view_module_version": "1.5.0",
            "_view_name": "FloatTextView",
            "continuous_update": false,
            "description": "A[1,2]",
            "description_tooltip": null,
            "disabled": false,
            "layout": "IPY_MODEL_0b2d64600adb49dab03cc570ba69fe71",
            "step": null,
            "style": "IPY_MODEL_4d131f5c0b214086b922f3afb3cca073",
            "value": 0
          }
        },
        "ee3b604abaca4612a449b14689b0d958": {
          "model_module": "@jupyter-widgets/base",
          "model_name": "LayoutModel",
          "model_module_version": "1.2.0",
          "state": {
            "_model_module": "@jupyter-widgets/base",
            "_model_module_version": "1.2.0",
            "_model_name": "LayoutModel",
            "_view_count": null,
            "_view_module": "@jupyter-widgets/base",
            "_view_module_version": "1.2.0",
            "_view_name": "LayoutView",
            "align_content": null,
            "align_items": null,
            "align_self": null,
            "border": null,
            "bottom": null,
            "display": null,
            "flex": null,
            "flex_flow": null,
            "grid_area": null,
            "grid_auto_columns": null,
            "grid_auto_flow": null,
            "grid_auto_rows": null,
            "grid_column": null,
            "grid_gap": null,
            "grid_row": null,
            "grid_template_areas": null,
            "grid_template_columns": null,
            "grid_template_rows": null,
            "height": null,
            "justify_content": null,
            "justify_items": null,
            "left": null,
            "margin": null,
            "max_height": null,
            "max_width": null,
            "min_height": null,
            "min_width": null,
            "object_fit": null,
            "object_position": null,
            "order": null,
            "overflow": null,
            "overflow_x": null,
            "overflow_y": null,
            "padding": null,
            "right": null,
            "top": null,
            "visibility": null,
            "width": null
          }
        },
        "ea1e061267b4483b90bdbdd8d811bec8": {
          "model_module": "@jupyter-widgets/base",
          "model_name": "LayoutModel",
          "model_module_version": "1.2.0",
          "state": {
            "_model_module": "@jupyter-widgets/base",
            "_model_module_version": "1.2.0",
            "_model_name": "LayoutModel",
            "_view_count": null,
            "_view_module": "@jupyter-widgets/base",
            "_view_module_version": "1.2.0",
            "_view_name": "LayoutView",
            "align_content": null,
            "align_items": null,
            "align_self": null,
            "border": null,
            "bottom": null,
            "display": null,
            "flex": null,
            "flex_flow": null,
            "grid_area": null,
            "grid_auto_columns": null,
            "grid_auto_flow": null,
            "grid_auto_rows": null,
            "grid_column": null,
            "grid_gap": null,
            "grid_row": null,
            "grid_template_areas": null,
            "grid_template_columns": null,
            "grid_template_rows": null,
            "height": null,
            "justify_content": null,
            "justify_items": null,
            "left": null,
            "margin": null,
            "max_height": null,
            "max_width": null,
            "min_height": null,
            "min_width": null,
            "object_fit": null,
            "object_position": null,
            "order": null,
            "overflow": null,
            "overflow_x": null,
            "overflow_y": null,
            "padding": null,
            "right": null,
            "top": null,
            "visibility": null,
            "width": "150px"
          }
        },
        "9822e69393e54efe9595eafb8d749297": {
          "model_module": "@jupyter-widgets/controls",
          "model_name": "DescriptionStyleModel",
          "model_module_version": "1.5.0",
          "state": {
            "_model_module": "@jupyter-widgets/controls",
            "_model_module_version": "1.5.0",
            "_model_name": "DescriptionStyleModel",
            "_view_count": null,
            "_view_module": "@jupyter-widgets/base",
            "_view_module_version": "1.2.0",
            "_view_name": "StyleView",
            "description_width": ""
          }
        },
        "0b2d64600adb49dab03cc570ba69fe71": {
          "model_module": "@jupyter-widgets/base",
          "model_name": "LayoutModel",
          "model_module_version": "1.2.0",
          "state": {
            "_model_module": "@jupyter-widgets/base",
            "_model_module_version": "1.2.0",
            "_model_name": "LayoutModel",
            "_view_count": null,
            "_view_module": "@jupyter-widgets/base",
            "_view_module_version": "1.2.0",
            "_view_name": "LayoutView",
            "align_content": null,
            "align_items": null,
            "align_self": null,
            "border": null,
            "bottom": null,
            "display": null,
            "flex": null,
            "flex_flow": null,
            "grid_area": null,
            "grid_auto_columns": null,
            "grid_auto_flow": null,
            "grid_auto_rows": null,
            "grid_column": null,
            "grid_gap": null,
            "grid_row": null,
            "grid_template_areas": null,
            "grid_template_columns": null,
            "grid_template_rows": null,
            "height": null,
            "justify_content": null,
            "justify_items": null,
            "left": null,
            "margin": null,
            "max_height": null,
            "max_width": null,
            "min_height": null,
            "min_width": null,
            "object_fit": null,
            "object_position": null,
            "order": null,
            "overflow": null,
            "overflow_x": null,
            "overflow_y": null,
            "padding": null,
            "right": null,
            "top": null,
            "visibility": null,
            "width": "150px"
          }
        },
        "4d131f5c0b214086b922f3afb3cca073": {
          "model_module": "@jupyter-widgets/controls",
          "model_name": "DescriptionStyleModel",
          "model_module_version": "1.5.0",
          "state": {
            "_model_module": "@jupyter-widgets/controls",
            "_model_module_version": "1.5.0",
            "_model_name": "DescriptionStyleModel",
            "_view_count": null,
            "_view_module": "@jupyter-widgets/base",
            "_view_module_version": "1.2.0",
            "_view_name": "StyleView",
            "description_width": ""
          }
        },
        "38505122bc5042d5b4576213f4d677a9": {
          "model_module": "@jupyter-widgets/controls",
          "model_name": "HBoxModel",
          "model_module_version": "1.5.0",
          "state": {
            "_dom_classes": [],
            "_model_module": "@jupyter-widgets/controls",
            "_model_module_version": "1.5.0",
            "_model_name": "HBoxModel",
            "_view_count": null,
            "_view_module": "@jupyter-widgets/controls",
            "_view_module_version": "1.5.0",
            "_view_name": "HBoxView",
            "box_style": "",
            "children": [
              "IPY_MODEL_ec58ee85e31d40b9ae2b92421bc85d7b",
              "IPY_MODEL_0461c843c72a4e5284d387b667774b80"
            ],
            "layout": "IPY_MODEL_402c2904e53141ec95988b93460cb102"
          }
        },
        "ec58ee85e31d40b9ae2b92421bc85d7b": {
          "model_module": "@jupyter-widgets/controls",
          "model_name": "FloatTextModel",
          "model_module_version": "1.5.0",
          "state": {
            "_dom_classes": [],
            "_model_module": "@jupyter-widgets/controls",
            "_model_module_version": "1.5.0",
            "_model_name": "FloatTextModel",
            "_view_count": null,
            "_view_module": "@jupyter-widgets/controls",
            "_view_module_version": "1.5.0",
            "_view_name": "FloatTextView",
            "continuous_update": false,
            "description": "A[2,1]",
            "description_tooltip": null,
            "disabled": false,
            "layout": "IPY_MODEL_1accdca3cb5943ebaa6669bf1592ec7f",
            "step": null,
            "style": "IPY_MODEL_7c334bed60d84bbca837d0d239d23068",
            "value": -1
          }
        },
        "0461c843c72a4e5284d387b667774b80": {
          "model_module": "@jupyter-widgets/controls",
          "model_name": "FloatTextModel",
          "model_module_version": "1.5.0",
          "state": {
            "_dom_classes": [],
            "_model_module": "@jupyter-widgets/controls",
            "_model_module_version": "1.5.0",
            "_model_name": "FloatTextModel",
            "_view_count": null,
            "_view_module": "@jupyter-widgets/controls",
            "_view_module_version": "1.5.0",
            "_view_name": "FloatTextView",
            "continuous_update": false,
            "description": "A[2,2]",
            "description_tooltip": null,
            "disabled": false,
            "layout": "IPY_MODEL_435a4737e7ee496aa76b541d72c7997f",
            "step": null,
            "style": "IPY_MODEL_8ff0f51d7b044f0180d8eefbd0464fd8",
            "value": 2
          }
        },
        "402c2904e53141ec95988b93460cb102": {
          "model_module": "@jupyter-widgets/base",
          "model_name": "LayoutModel",
          "model_module_version": "1.2.0",
          "state": {
            "_model_module": "@jupyter-widgets/base",
            "_model_module_version": "1.2.0",
            "_model_name": "LayoutModel",
            "_view_count": null,
            "_view_module": "@jupyter-widgets/base",
            "_view_module_version": "1.2.0",
            "_view_name": "LayoutView",
            "align_content": null,
            "align_items": null,
            "align_self": null,
            "border": null,
            "bottom": null,
            "display": null,
            "flex": null,
            "flex_flow": null,
            "grid_area": null,
            "grid_auto_columns": null,
            "grid_auto_flow": null,
            "grid_auto_rows": null,
            "grid_column": null,
            "grid_gap": null,
            "grid_row": null,
            "grid_template_areas": null,
            "grid_template_columns": null,
            "grid_template_rows": null,
            "height": null,
            "justify_content": null,
            "justify_items": null,
            "left": null,
            "margin": null,
            "max_height": null,
            "max_width": null,
            "min_height": null,
            "min_width": null,
            "object_fit": null,
            "object_position": null,
            "order": null,
            "overflow": null,
            "overflow_x": null,
            "overflow_y": null,
            "padding": null,
            "right": null,
            "top": null,
            "visibility": null,
            "width": null
          }
        },
        "1accdca3cb5943ebaa6669bf1592ec7f": {
          "model_module": "@jupyter-widgets/base",
          "model_name": "LayoutModel",
          "model_module_version": "1.2.0",
          "state": {
            "_model_module": "@jupyter-widgets/base",
            "_model_module_version": "1.2.0",
            "_model_name": "LayoutModel",
            "_view_count": null,
            "_view_module": "@jupyter-widgets/base",
            "_view_module_version": "1.2.0",
            "_view_name": "LayoutView",
            "align_content": null,
            "align_items": null,
            "align_self": null,
            "border": null,
            "bottom": null,
            "display": null,
            "flex": null,
            "flex_flow": null,
            "grid_area": null,
            "grid_auto_columns": null,
            "grid_auto_flow": null,
            "grid_auto_rows": null,
            "grid_column": null,
            "grid_gap": null,
            "grid_row": null,
            "grid_template_areas": null,
            "grid_template_columns": null,
            "grid_template_rows": null,
            "height": null,
            "justify_content": null,
            "justify_items": null,
            "left": null,
            "margin": null,
            "max_height": null,
            "max_width": null,
            "min_height": null,
            "min_width": null,
            "object_fit": null,
            "object_position": null,
            "order": null,
            "overflow": null,
            "overflow_x": null,
            "overflow_y": null,
            "padding": null,
            "right": null,
            "top": null,
            "visibility": null,
            "width": "150px"
          }
        },
        "7c334bed60d84bbca837d0d239d23068": {
          "model_module": "@jupyter-widgets/controls",
          "model_name": "DescriptionStyleModel",
          "model_module_version": "1.5.0",
          "state": {
            "_model_module": "@jupyter-widgets/controls",
            "_model_module_version": "1.5.0",
            "_model_name": "DescriptionStyleModel",
            "_view_count": null,
            "_view_module": "@jupyter-widgets/base",
            "_view_module_version": "1.2.0",
            "_view_name": "StyleView",
            "description_width": ""
          }
        },
        "435a4737e7ee496aa76b541d72c7997f": {
          "model_module": "@jupyter-widgets/base",
          "model_name": "LayoutModel",
          "model_module_version": "1.2.0",
          "state": {
            "_model_module": "@jupyter-widgets/base",
            "_model_module_version": "1.2.0",
            "_model_name": "LayoutModel",
            "_view_count": null,
            "_view_module": "@jupyter-widgets/base",
            "_view_module_version": "1.2.0",
            "_view_name": "LayoutView",
            "align_content": null,
            "align_items": null,
            "align_self": null,
            "border": null,
            "bottom": null,
            "display": null,
            "flex": null,
            "flex_flow": null,
            "grid_area": null,
            "grid_auto_columns": null,
            "grid_auto_flow": null,
            "grid_auto_rows": null,
            "grid_column": null,
            "grid_gap": null,
            "grid_row": null,
            "grid_template_areas": null,
            "grid_template_columns": null,
            "grid_template_rows": null,
            "height": null,
            "justify_content": null,
            "justify_items": null,
            "left": null,
            "margin": null,
            "max_height": null,
            "max_width": null,
            "min_height": null,
            "min_width": null,
            "object_fit": null,
            "object_position": null,
            "order": null,
            "overflow": null,
            "overflow_x": null,
            "overflow_y": null,
            "padding": null,
            "right": null,
            "top": null,
            "visibility": null,
            "width": "150px"
          }
        },
        "8ff0f51d7b044f0180d8eefbd0464fd8": {
          "model_module": "@jupyter-widgets/controls",
          "model_name": "DescriptionStyleModel",
          "model_module_version": "1.5.0",
          "state": {
            "_model_module": "@jupyter-widgets/controls",
            "_model_module_version": "1.5.0",
            "_model_name": "DescriptionStyleModel",
            "_view_count": null,
            "_view_module": "@jupyter-widgets/base",
            "_view_module_version": "1.2.0",
            "_view_name": "StyleView",
            "description_width": ""
          }
        },
        "94ac38dc78b34c08a9e8b190e3f4f12f": {
          "model_module": "@jupyter-widgets/controls",
          "model_name": "ButtonModel",
          "model_module_version": "1.5.0",
          "state": {
            "_dom_classes": [],
            "_model_module": "@jupyter-widgets/controls",
            "_model_module_version": "1.5.0",
            "_model_name": "ButtonModel",
            "_view_count": null,
            "_view_module": "@jupyter-widgets/controls",
            "_view_module_version": "1.5.0",
            "_view_name": "ButtonView",
            "button_style": "",
            "description": "Confirmar valores",
            "disabled": false,
            "icon": "",
            "layout": "IPY_MODEL_34c5d953692e4a79a664026833c4cf48",
            "style": "IPY_MODEL_2f0927a599ce46f1b58b023032b80aab",
            "tooltip": ""
          }
        },
        "34c5d953692e4a79a664026833c4cf48": {
          "model_module": "@jupyter-widgets/base",
          "model_name": "LayoutModel",
          "model_module_version": "1.2.0",
          "state": {
            "_model_module": "@jupyter-widgets/base",
            "_model_module_version": "1.2.0",
            "_model_name": "LayoutModel",
            "_view_count": null,
            "_view_module": "@jupyter-widgets/base",
            "_view_module_version": "1.2.0",
            "_view_name": "LayoutView",
            "align_content": null,
            "align_items": null,
            "align_self": null,
            "border": null,
            "bottom": null,
            "display": null,
            "flex": null,
            "flex_flow": null,
            "grid_area": null,
            "grid_auto_columns": null,
            "grid_auto_flow": null,
            "grid_auto_rows": null,
            "grid_column": null,
            "grid_gap": null,
            "grid_row": null,
            "grid_template_areas": null,
            "grid_template_columns": null,
            "grid_template_rows": null,
            "height": null,
            "justify_content": null,
            "justify_items": null,
            "left": null,
            "margin": null,
            "max_height": null,
            "max_width": null,
            "min_height": null,
            "min_width": null,
            "object_fit": null,
            "object_position": null,
            "order": null,
            "overflow": null,
            "overflow_x": null,
            "overflow_y": null,
            "padding": null,
            "right": null,
            "top": null,
            "visibility": null,
            "width": null
          }
        },
        "2f0927a599ce46f1b58b023032b80aab": {
          "model_module": "@jupyter-widgets/controls",
          "model_name": "ButtonStyleModel",
          "model_module_version": "1.5.0",
          "state": {
            "_model_module": "@jupyter-widgets/controls",
            "_model_module_version": "1.5.0",
            "_model_name": "ButtonStyleModel",
            "_view_count": null,
            "_view_module": "@jupyter-widgets/base",
            "_view_module_version": "1.2.0",
            "_view_name": "StyleView",
            "button_color": null,
            "font_weight": ""
          }
        },
        "dfcda68718d04976bb78f7962fded76f": {
          "model_module": "@jupyter-widgets/controls",
          "model_name": "IntTextModel",
          "model_module_version": "1.5.0",
          "state": {
            "_dom_classes": [],
            "_model_module": "@jupyter-widgets/controls",
            "_model_module_version": "1.5.0",
            "_model_name": "IntTextModel",
            "_view_count": null,
            "_view_module": "@jupyter-widgets/controls",
            "_view_module_version": "1.5.0",
            "_view_name": "IntTextView",
            "continuous_update": false,
            "description": "Filas:",
            "description_tooltip": null,
            "disabled": false,
            "layout": "IPY_MODEL_36d4b834d33f470aa8d57397289178ac",
            "step": 1,
            "style": "IPY_MODEL_be2ff964d58542688ebaa571c1ded21c",
            "value": 2
          }
        },
        "36d4b834d33f470aa8d57397289178ac": {
          "model_module": "@jupyter-widgets/base",
          "model_name": "LayoutModel",
          "model_module_version": "1.2.0",
          "state": {
            "_model_module": "@jupyter-widgets/base",
            "_model_module_version": "1.2.0",
            "_model_name": "LayoutModel",
            "_view_count": null,
            "_view_module": "@jupyter-widgets/base",
            "_view_module_version": "1.2.0",
            "_view_name": "LayoutView",
            "align_content": null,
            "align_items": null,
            "align_self": null,
            "border": null,
            "bottom": null,
            "display": null,
            "flex": null,
            "flex_flow": null,
            "grid_area": null,
            "grid_auto_columns": null,
            "grid_auto_flow": null,
            "grid_auto_rows": null,
            "grid_column": null,
            "grid_gap": null,
            "grid_row": null,
            "grid_template_areas": null,
            "grid_template_columns": null,
            "grid_template_rows": null,
            "height": null,
            "justify_content": null,
            "justify_items": null,
            "left": null,
            "margin": null,
            "max_height": null,
            "max_width": null,
            "min_height": null,
            "min_width": null,
            "object_fit": null,
            "object_position": null,
            "order": null,
            "overflow": null,
            "overflow_x": null,
            "overflow_y": null,
            "padding": null,
            "right": null,
            "top": null,
            "visibility": null,
            "width": "200px"
          }
        },
        "be2ff964d58542688ebaa571c1ded21c": {
          "model_module": "@jupyter-widgets/controls",
          "model_name": "DescriptionStyleModel",
          "model_module_version": "1.5.0",
          "state": {
            "_model_module": "@jupyter-widgets/controls",
            "_model_module_version": "1.5.0",
            "_model_name": "DescriptionStyleModel",
            "_view_count": null,
            "_view_module": "@jupyter-widgets/base",
            "_view_module_version": "1.2.0",
            "_view_name": "StyleView",
            "description_width": ""
          }
        },
        "f957557d785242729262eaf4ae949525": {
          "model_module": "@jupyter-widgets/controls",
          "model_name": "IntTextModel",
          "model_module_version": "1.5.0",
          "state": {
            "_dom_classes": [],
            "_model_module": "@jupyter-widgets/controls",
            "_model_module_version": "1.5.0",
            "_model_name": "IntTextModel",
            "_view_count": null,
            "_view_module": "@jupyter-widgets/controls",
            "_view_module_version": "1.5.0",
            "_view_name": "IntTextView",
            "continuous_update": false,
            "description": "Columnas:",
            "description_tooltip": null,
            "disabled": false,
            "layout": "IPY_MODEL_18525d337ce143bfad39121381eb97d4",
            "step": 1,
            "style": "IPY_MODEL_3c261823c40b4fe8a81422c69340d8d7",
            "value": 2
          }
        },
        "18525d337ce143bfad39121381eb97d4": {
          "model_module": "@jupyter-widgets/base",
          "model_name": "LayoutModel",
          "model_module_version": "1.2.0",
          "state": {
            "_model_module": "@jupyter-widgets/base",
            "_model_module_version": "1.2.0",
            "_model_name": "LayoutModel",
            "_view_count": null,
            "_view_module": "@jupyter-widgets/base",
            "_view_module_version": "1.2.0",
            "_view_name": "LayoutView",
            "align_content": null,
            "align_items": null,
            "align_self": null,
            "border": null,
            "bottom": null,
            "display": null,
            "flex": null,
            "flex_flow": null,
            "grid_area": null,
            "grid_auto_columns": null,
            "grid_auto_flow": null,
            "grid_auto_rows": null,
            "grid_column": null,
            "grid_gap": null,
            "grid_row": null,
            "grid_template_areas": null,
            "grid_template_columns": null,
            "grid_template_rows": null,
            "height": null,
            "justify_content": null,
            "justify_items": null,
            "left": null,
            "margin": null,
            "max_height": null,
            "max_width": null,
            "min_height": null,
            "min_width": null,
            "object_fit": null,
            "object_position": null,
            "order": null,
            "overflow": null,
            "overflow_x": null,
            "overflow_y": null,
            "padding": null,
            "right": null,
            "top": null,
            "visibility": null,
            "width": "200px"
          }
        },
        "3c261823c40b4fe8a81422c69340d8d7": {
          "model_module": "@jupyter-widgets/controls",
          "model_name": "DescriptionStyleModel",
          "model_module_version": "1.5.0",
          "state": {
            "_model_module": "@jupyter-widgets/controls",
            "_model_module_version": "1.5.0",
            "_model_name": "DescriptionStyleModel",
            "_view_count": null,
            "_view_module": "@jupyter-widgets/base",
            "_view_module_version": "1.2.0",
            "_view_name": "StyleView",
            "description_width": ""
          }
        },
        "0f604417012e49848f4d4207ba25c5b1": {
          "model_module": "@jupyter-widgets/controls",
          "model_name": "ButtonModel",
          "model_module_version": "1.5.0",
          "state": {
            "_dom_classes": [],
            "_model_module": "@jupyter-widgets/controls",
            "_model_module_version": "1.5.0",
            "_model_name": "ButtonModel",
            "_view_count": null,
            "_view_module": "@jupyter-widgets/controls",
            "_view_module_version": "1.5.0",
            "_view_name": "ButtonView",
            "button_style": "",
            "description": "Confirmar dimensiones",
            "disabled": false,
            "icon": "",
            "layout": "IPY_MODEL_4376806d55334240900567a79fdac6ee",
            "style": "IPY_MODEL_680c742bd59348bdac5516915d978bc7",
            "tooltip": ""
          }
        },
        "4376806d55334240900567a79fdac6ee": {
          "model_module": "@jupyter-widgets/base",
          "model_name": "LayoutModel",
          "model_module_version": "1.2.0",
          "state": {
            "_model_module": "@jupyter-widgets/base",
            "_model_module_version": "1.2.0",
            "_model_name": "LayoutModel",
            "_view_count": null,
            "_view_module": "@jupyter-widgets/base",
            "_view_module_version": "1.2.0",
            "_view_name": "LayoutView",
            "align_content": null,
            "align_items": null,
            "align_self": null,
            "border": null,
            "bottom": null,
            "display": null,
            "flex": null,
            "flex_flow": null,
            "grid_area": null,
            "grid_auto_columns": null,
            "grid_auto_flow": null,
            "grid_auto_rows": null,
            "grid_column": null,
            "grid_gap": null,
            "grid_row": null,
            "grid_template_areas": null,
            "grid_template_columns": null,
            "grid_template_rows": null,
            "height": null,
            "justify_content": null,
            "justify_items": null,
            "left": null,
            "margin": null,
            "max_height": null,
            "max_width": null,
            "min_height": null,
            "min_width": null,
            "object_fit": null,
            "object_position": null,
            "order": null,
            "overflow": null,
            "overflow_x": null,
            "overflow_y": null,
            "padding": null,
            "right": null,
            "top": null,
            "visibility": null,
            "width": null
          }
        },
        "680c742bd59348bdac5516915d978bc7": {
          "model_module": "@jupyter-widgets/controls",
          "model_name": "ButtonStyleModel",
          "model_module_version": "1.5.0",
          "state": {
            "_model_module": "@jupyter-widgets/controls",
            "_model_module_version": "1.5.0",
            "_model_name": "ButtonStyleModel",
            "_view_count": null,
            "_view_module": "@jupyter-widgets/base",
            "_view_module_version": "1.2.0",
            "_view_name": "StyleView",
            "button_color": null,
            "font_weight": ""
          }
        },
        "9d03fd4c7f5343bfab8a9c15ecebe3cf": {
          "model_module": "@jupyter-widgets/controls",
          "model_name": "HBoxModel",
          "model_module_version": "1.5.0",
          "state": {
            "_dom_classes": [],
            "_model_module": "@jupyter-widgets/controls",
            "_model_module_version": "1.5.0",
            "_model_name": "HBoxModel",
            "_view_count": null,
            "_view_module": "@jupyter-widgets/controls",
            "_view_module_version": "1.5.0",
            "_view_name": "HBoxView",
            "box_style": "",
            "children": [
              "IPY_MODEL_45ae0151b7ee4cd682c4b60e96c4837d",
              "IPY_MODEL_314fdcedeb364fedbdef1172b474cac7"
            ],
            "layout": "IPY_MODEL_1ad6d5e72dd644e2a474ef5eb761bb35"
          }
        },
        "45ae0151b7ee4cd682c4b60e96c4837d": {
          "model_module": "@jupyter-widgets/controls",
          "model_name": "FloatTextModel",
          "model_module_version": "1.5.0",
          "state": {
            "_dom_classes": [],
            "_model_module": "@jupyter-widgets/controls",
            "_model_module_version": "1.5.0",
            "_model_name": "FloatTextModel",
            "_view_count": null,
            "_view_module": "@jupyter-widgets/controls",
            "_view_module_version": "1.5.0",
            "_view_name": "FloatTextView",
            "continuous_update": false,
            "description": "A[1,1]",
            "description_tooltip": null,
            "disabled": false,
            "layout": "IPY_MODEL_8f5227bedd694c4faee19017c1ea7fd9",
            "step": null,
            "style": "IPY_MODEL_d6c1fffe37784c6c9431ddd6635c5f94",
            "value": 1
          }
        },
        "314fdcedeb364fedbdef1172b474cac7": {
          "model_module": "@jupyter-widgets/controls",
          "model_name": "FloatTextModel",
          "model_module_version": "1.5.0",
          "state": {
            "_dom_classes": [],
            "_model_module": "@jupyter-widgets/controls",
            "_model_module_version": "1.5.0",
            "_model_name": "FloatTextModel",
            "_view_count": null,
            "_view_module": "@jupyter-widgets/controls",
            "_view_module_version": "1.5.0",
            "_view_name": "FloatTextView",
            "continuous_update": false,
            "description": "A[1,2]",
            "description_tooltip": null,
            "disabled": false,
            "layout": "IPY_MODEL_7df767e56d7045b295c4782764adc46c",
            "step": null,
            "style": "IPY_MODEL_975cc7e4ef14426091b53e27793d07b9",
            "value": 2
          }
        },
        "1ad6d5e72dd644e2a474ef5eb761bb35": {
          "model_module": "@jupyter-widgets/base",
          "model_name": "LayoutModel",
          "model_module_version": "1.2.0",
          "state": {
            "_model_module": "@jupyter-widgets/base",
            "_model_module_version": "1.2.0",
            "_model_name": "LayoutModel",
            "_view_count": null,
            "_view_module": "@jupyter-widgets/base",
            "_view_module_version": "1.2.0",
            "_view_name": "LayoutView",
            "align_content": null,
            "align_items": null,
            "align_self": null,
            "border": null,
            "bottom": null,
            "display": null,
            "flex": null,
            "flex_flow": null,
            "grid_area": null,
            "grid_auto_columns": null,
            "grid_auto_flow": null,
            "grid_auto_rows": null,
            "grid_column": null,
            "grid_gap": null,
            "grid_row": null,
            "grid_template_areas": null,
            "grid_template_columns": null,
            "grid_template_rows": null,
            "height": null,
            "justify_content": null,
            "justify_items": null,
            "left": null,
            "margin": null,
            "max_height": null,
            "max_width": null,
            "min_height": null,
            "min_width": null,
            "object_fit": null,
            "object_position": null,
            "order": null,
            "overflow": null,
            "overflow_x": null,
            "overflow_y": null,
            "padding": null,
            "right": null,
            "top": null,
            "visibility": null,
            "width": null
          }
        },
        "8f5227bedd694c4faee19017c1ea7fd9": {
          "model_module": "@jupyter-widgets/base",
          "model_name": "LayoutModel",
          "model_module_version": "1.2.0",
          "state": {
            "_model_module": "@jupyter-widgets/base",
            "_model_module_version": "1.2.0",
            "_model_name": "LayoutModel",
            "_view_count": null,
            "_view_module": "@jupyter-widgets/base",
            "_view_module_version": "1.2.0",
            "_view_name": "LayoutView",
            "align_content": null,
            "align_items": null,
            "align_self": null,
            "border": null,
            "bottom": null,
            "display": null,
            "flex": null,
            "flex_flow": null,
            "grid_area": null,
            "grid_auto_columns": null,
            "grid_auto_flow": null,
            "grid_auto_rows": null,
            "grid_column": null,
            "grid_gap": null,
            "grid_row": null,
            "grid_template_areas": null,
            "grid_template_columns": null,
            "grid_template_rows": null,
            "height": null,
            "justify_content": null,
            "justify_items": null,
            "left": null,
            "margin": null,
            "max_height": null,
            "max_width": null,
            "min_height": null,
            "min_width": null,
            "object_fit": null,
            "object_position": null,
            "order": null,
            "overflow": null,
            "overflow_x": null,
            "overflow_y": null,
            "padding": null,
            "right": null,
            "top": null,
            "visibility": null,
            "width": "150px"
          }
        },
        "d6c1fffe37784c6c9431ddd6635c5f94": {
          "model_module": "@jupyter-widgets/controls",
          "model_name": "DescriptionStyleModel",
          "model_module_version": "1.5.0",
          "state": {
            "_model_module": "@jupyter-widgets/controls",
            "_model_module_version": "1.5.0",
            "_model_name": "DescriptionStyleModel",
            "_view_count": null,
            "_view_module": "@jupyter-widgets/base",
            "_view_module_version": "1.2.0",
            "_view_name": "StyleView",
            "description_width": ""
          }
        },
        "7df767e56d7045b295c4782764adc46c": {
          "model_module": "@jupyter-widgets/base",
          "model_name": "LayoutModel",
          "model_module_version": "1.2.0",
          "state": {
            "_model_module": "@jupyter-widgets/base",
            "_model_module_version": "1.2.0",
            "_model_name": "LayoutModel",
            "_view_count": null,
            "_view_module": "@jupyter-widgets/base",
            "_view_module_version": "1.2.0",
            "_view_name": "LayoutView",
            "align_content": null,
            "align_items": null,
            "align_self": null,
            "border": null,
            "bottom": null,
            "display": null,
            "flex": null,
            "flex_flow": null,
            "grid_area": null,
            "grid_auto_columns": null,
            "grid_auto_flow": null,
            "grid_auto_rows": null,
            "grid_column": null,
            "grid_gap": null,
            "grid_row": null,
            "grid_template_areas": null,
            "grid_template_columns": null,
            "grid_template_rows": null,
            "height": null,
            "justify_content": null,
            "justify_items": null,
            "left": null,
            "margin": null,
            "max_height": null,
            "max_width": null,
            "min_height": null,
            "min_width": null,
            "object_fit": null,
            "object_position": null,
            "order": null,
            "overflow": null,
            "overflow_x": null,
            "overflow_y": null,
            "padding": null,
            "right": null,
            "top": null,
            "visibility": null,
            "width": "150px"
          }
        },
        "975cc7e4ef14426091b53e27793d07b9": {
          "model_module": "@jupyter-widgets/controls",
          "model_name": "DescriptionStyleModel",
          "model_module_version": "1.5.0",
          "state": {
            "_model_module": "@jupyter-widgets/controls",
            "_model_module_version": "1.5.0",
            "_model_name": "DescriptionStyleModel",
            "_view_count": null,
            "_view_module": "@jupyter-widgets/base",
            "_view_module_version": "1.2.0",
            "_view_name": "StyleView",
            "description_width": ""
          }
        },
        "42913136334d4c7580651e50d86f6bb0": {
          "model_module": "@jupyter-widgets/controls",
          "model_name": "HBoxModel",
          "model_module_version": "1.5.0",
          "state": {
            "_dom_classes": [],
            "_model_module": "@jupyter-widgets/controls",
            "_model_module_version": "1.5.0",
            "_model_name": "HBoxModel",
            "_view_count": null,
            "_view_module": "@jupyter-widgets/controls",
            "_view_module_version": "1.5.0",
            "_view_name": "HBoxView",
            "box_style": "",
            "children": [
              "IPY_MODEL_1c2bd3e66a264fb997d294ad106f70e6",
              "IPY_MODEL_8defac86f1584ab6b01a0f180ed0ee60"
            ],
            "layout": "IPY_MODEL_c9b30795321c4fcd9228909e3d83b068"
          }
        },
        "1c2bd3e66a264fb997d294ad106f70e6": {
          "model_module": "@jupyter-widgets/controls",
          "model_name": "FloatTextModel",
          "model_module_version": "1.5.0",
          "state": {
            "_dom_classes": [],
            "_model_module": "@jupyter-widgets/controls",
            "_model_module_version": "1.5.0",
            "_model_name": "FloatTextModel",
            "_view_count": null,
            "_view_module": "@jupyter-widgets/controls",
            "_view_module_version": "1.5.0",
            "_view_name": "FloatTextView",
            "continuous_update": false,
            "description": "A[2,1]",
            "description_tooltip": null,
            "disabled": false,
            "layout": "IPY_MODEL_7ce89e55ff854c86980aef42d75a58b3",
            "step": null,
            "style": "IPY_MODEL_a14827e5d8d04ca7800e2d7e44bff672",
            "value": 0
          }
        },
        "8defac86f1584ab6b01a0f180ed0ee60": {
          "model_module": "@jupyter-widgets/controls",
          "model_name": "FloatTextModel",
          "model_module_version": "1.5.0",
          "state": {
            "_dom_classes": [],
            "_model_module": "@jupyter-widgets/controls",
            "_model_module_version": "1.5.0",
            "_model_name": "FloatTextModel",
            "_view_count": null,
            "_view_module": "@jupyter-widgets/controls",
            "_view_module_version": "1.5.0",
            "_view_name": "FloatTextView",
            "continuous_update": false,
            "description": "A[2,2]",
            "description_tooltip": null,
            "disabled": false,
            "layout": "IPY_MODEL_bce694ad06794672b1a7a34292b94715",
            "step": null,
            "style": "IPY_MODEL_af60e6c6fc7946ddab67eb5acfdde950",
            "value": 1
          }
        },
        "c9b30795321c4fcd9228909e3d83b068": {
          "model_module": "@jupyter-widgets/base",
          "model_name": "LayoutModel",
          "model_module_version": "1.2.0",
          "state": {
            "_model_module": "@jupyter-widgets/base",
            "_model_module_version": "1.2.0",
            "_model_name": "LayoutModel",
            "_view_count": null,
            "_view_module": "@jupyter-widgets/base",
            "_view_module_version": "1.2.0",
            "_view_name": "LayoutView",
            "align_content": null,
            "align_items": null,
            "align_self": null,
            "border": null,
            "bottom": null,
            "display": null,
            "flex": null,
            "flex_flow": null,
            "grid_area": null,
            "grid_auto_columns": null,
            "grid_auto_flow": null,
            "grid_auto_rows": null,
            "grid_column": null,
            "grid_gap": null,
            "grid_row": null,
            "grid_template_areas": null,
            "grid_template_columns": null,
            "grid_template_rows": null,
            "height": null,
            "justify_content": null,
            "justify_items": null,
            "left": null,
            "margin": null,
            "max_height": null,
            "max_width": null,
            "min_height": null,
            "min_width": null,
            "object_fit": null,
            "object_position": null,
            "order": null,
            "overflow": null,
            "overflow_x": null,
            "overflow_y": null,
            "padding": null,
            "right": null,
            "top": null,
            "visibility": null,
            "width": null
          }
        },
        "7ce89e55ff854c86980aef42d75a58b3": {
          "model_module": "@jupyter-widgets/base",
          "model_name": "LayoutModel",
          "model_module_version": "1.2.0",
          "state": {
            "_model_module": "@jupyter-widgets/base",
            "_model_module_version": "1.2.0",
            "_model_name": "LayoutModel",
            "_view_count": null,
            "_view_module": "@jupyter-widgets/base",
            "_view_module_version": "1.2.0",
            "_view_name": "LayoutView",
            "align_content": null,
            "align_items": null,
            "align_self": null,
            "border": null,
            "bottom": null,
            "display": null,
            "flex": null,
            "flex_flow": null,
            "grid_area": null,
            "grid_auto_columns": null,
            "grid_auto_flow": null,
            "grid_auto_rows": null,
            "grid_column": null,
            "grid_gap": null,
            "grid_row": null,
            "grid_template_areas": null,
            "grid_template_columns": null,
            "grid_template_rows": null,
            "height": null,
            "justify_content": null,
            "justify_items": null,
            "left": null,
            "margin": null,
            "max_height": null,
            "max_width": null,
            "min_height": null,
            "min_width": null,
            "object_fit": null,
            "object_position": null,
            "order": null,
            "overflow": null,
            "overflow_x": null,
            "overflow_y": null,
            "padding": null,
            "right": null,
            "top": null,
            "visibility": null,
            "width": "150px"
          }
        },
        "a14827e5d8d04ca7800e2d7e44bff672": {
          "model_module": "@jupyter-widgets/controls",
          "model_name": "DescriptionStyleModel",
          "model_module_version": "1.5.0",
          "state": {
            "_model_module": "@jupyter-widgets/controls",
            "_model_module_version": "1.5.0",
            "_model_name": "DescriptionStyleModel",
            "_view_count": null,
            "_view_module": "@jupyter-widgets/base",
            "_view_module_version": "1.2.0",
            "_view_name": "StyleView",
            "description_width": ""
          }
        },
        "bce694ad06794672b1a7a34292b94715": {
          "model_module": "@jupyter-widgets/base",
          "model_name": "LayoutModel",
          "model_module_version": "1.2.0",
          "state": {
            "_model_module": "@jupyter-widgets/base",
            "_model_module_version": "1.2.0",
            "_model_name": "LayoutModel",
            "_view_count": null,
            "_view_module": "@jupyter-widgets/base",
            "_view_module_version": "1.2.0",
            "_view_name": "LayoutView",
            "align_content": null,
            "align_items": null,
            "align_self": null,
            "border": null,
            "bottom": null,
            "display": null,
            "flex": null,
            "flex_flow": null,
            "grid_area": null,
            "grid_auto_columns": null,
            "grid_auto_flow": null,
            "grid_auto_rows": null,
            "grid_column": null,
            "grid_gap": null,
            "grid_row": null,
            "grid_template_areas": null,
            "grid_template_columns": null,
            "grid_template_rows": null,
            "height": null,
            "justify_content": null,
            "justify_items": null,
            "left": null,
            "margin": null,
            "max_height": null,
            "max_width": null,
            "min_height": null,
            "min_width": null,
            "object_fit": null,
            "object_position": null,
            "order": null,
            "overflow": null,
            "overflow_x": null,
            "overflow_y": null,
            "padding": null,
            "right": null,
            "top": null,
            "visibility": null,
            "width": "150px"
          }
        },
        "af60e6c6fc7946ddab67eb5acfdde950": {
          "model_module": "@jupyter-widgets/controls",
          "model_name": "DescriptionStyleModel",
          "model_module_version": "1.5.0",
          "state": {
            "_model_module": "@jupyter-widgets/controls",
            "_model_module_version": "1.5.0",
            "_model_name": "DescriptionStyleModel",
            "_view_count": null,
            "_view_module": "@jupyter-widgets/base",
            "_view_module_version": "1.2.0",
            "_view_name": "StyleView",
            "description_width": ""
          }
        },
        "a89c422d12ba4fa9931522beea0d9b6a": {
          "model_module": "@jupyter-widgets/controls",
          "model_name": "ButtonModel",
          "model_module_version": "1.5.0",
          "state": {
            "_dom_classes": [],
            "_model_module": "@jupyter-widgets/controls",
            "_model_module_version": "1.5.0",
            "_model_name": "ButtonModel",
            "_view_count": null,
            "_view_module": "@jupyter-widgets/controls",
            "_view_module_version": "1.5.0",
            "_view_name": "ButtonView",
            "button_style": "",
            "description": "Confirmar valores",
            "disabled": false,
            "icon": "",
            "layout": "IPY_MODEL_d3c3ca6e11af430fb2b6838924a8ee78",
            "style": "IPY_MODEL_24c0c8f6b52040278e95c5b24692c884",
            "tooltip": ""
          }
        },
        "d3c3ca6e11af430fb2b6838924a8ee78": {
          "model_module": "@jupyter-widgets/base",
          "model_name": "LayoutModel",
          "model_module_version": "1.2.0",
          "state": {
            "_model_module": "@jupyter-widgets/base",
            "_model_module_version": "1.2.0",
            "_model_name": "LayoutModel",
            "_view_count": null,
            "_view_module": "@jupyter-widgets/base",
            "_view_module_version": "1.2.0",
            "_view_name": "LayoutView",
            "align_content": null,
            "align_items": null,
            "align_self": null,
            "border": null,
            "bottom": null,
            "display": null,
            "flex": null,
            "flex_flow": null,
            "grid_area": null,
            "grid_auto_columns": null,
            "grid_auto_flow": null,
            "grid_auto_rows": null,
            "grid_column": null,
            "grid_gap": null,
            "grid_row": null,
            "grid_template_areas": null,
            "grid_template_columns": null,
            "grid_template_rows": null,
            "height": null,
            "justify_content": null,
            "justify_items": null,
            "left": null,
            "margin": null,
            "max_height": null,
            "max_width": null,
            "min_height": null,
            "min_width": null,
            "object_fit": null,
            "object_position": null,
            "order": null,
            "overflow": null,
            "overflow_x": null,
            "overflow_y": null,
            "padding": null,
            "right": null,
            "top": null,
            "visibility": null,
            "width": null
          }
        },
        "24c0c8f6b52040278e95c5b24692c884": {
          "model_module": "@jupyter-widgets/controls",
          "model_name": "ButtonStyleModel",
          "model_module_version": "1.5.0",
          "state": {
            "_model_module": "@jupyter-widgets/controls",
            "_model_module_version": "1.5.0",
            "_model_name": "ButtonStyleModel",
            "_view_count": null,
            "_view_module": "@jupyter-widgets/base",
            "_view_module_version": "1.2.0",
            "_view_name": "StyleView",
            "button_color": null,
            "font_weight": ""
          }
        }
      }
    }
  },
  "cells": [
    {
      "cell_type": "markdown",
      "metadata": {
        "id": "view-in-github",
        "colab_type": "text"
      },
      "source": [
        "<a href=\"https://colab.research.google.com/github/Salma11D/Micro.Dynamics/blob/main/Ron'DynamicS.ipynb\" target=\"_parent\"><img src=\"https://colab.research.google.com/assets/colab-badge.svg\" alt=\"Open In Colab\"/></a>"
      ]
    },
    {
      "cell_type": "markdown",
      "source": [
        "#RonDynamicS#"
      ],
      "metadata": {
        "id": "XSXUIYqzOM6M"
      }
    },
    {
      "cell_type": "markdown",
      "source": [
        "Nombre de los integrantes:\n",
        "Ronaldo Batalla\n",
        "Salma Ramadan\n",
        "\n",
        "Correos institucionales y repositorios:\n",
        "Ronaldo: rbatallaarroyfl@flacso.edu.ec\n",
        "\n",
        "Repositorio Github: https://github.com/REBA1996/proyecto-sistemas\n",
        "\n",
        "\n",
        "\n",
        "Salma: sramadanfl@flacso.edu.ec\n",
        "\n",
        "Repositorio Github:https://github.com/Salma11D/Micro.Dynamics\n"
      ],
      "metadata": {
        "id": "ZyY_8LKMrZjl"
      }
    },
    {
      "cell_type": "markdown",
      "source": [
        "Se elabora un programa para analizar ecuaciones diferenciales. Este programa proporciona el cálculo de vectores y valores propios asociados a una matriz dada. Además, grafica la dinámica del sistema para comprender sus trayectorias.\n",
        "Nombre asignado para el programa: Ron´DynamicS , en honor a sus creadores: Ronaldo y Salma"
      ],
      "metadata": {
        "id": "lRYr9K_OOYC_"
      }
    },
    {
      "cell_type": "markdown",
      "source": [
        "##Descripción y explicación del programa elaborado##\n",
        "\n",
        "Este código crea un programa interactivo en Python para trabajar con matrices, resolver sistemas de ecuaciones lineales y analizar sus propiedades, como valores y vectores propios.\n",
        "A continuación una breve explicación de los pasos a seguir para la creación de este programa\n",
        "\n",
        "1. Importación de Librerías:\n",
        "\n",
        "NumPy (np): Para operaciones numéricas\n",
        "SymPy (sp): Para matemáticas simbólicas\n",
        "ipywidgets: Para crear widgets interactivos\n",
        "IPython.display: Para mostrar elementos interactivos\n",
        "Matplotlib (plt): Para graficar diagramas de fase y soluciones de ecuaciones diferenciales.\n",
        "SciPy.integrate: Para resolver ecuaciones diferenciales numéricamente.\n",
        "\n",
        "2. Función crear_matriz_interactiva(filas, columnas):\n",
        "\n",
        "Esto nos permite crear crear una matriz de ceros con las dimensiones especificadas por el usuario.\n",
        "Utiliza bucles for y widgets FloatText para generar cuadros de texto donde el usuario puede ingresar los valores de cada elemento de la matriz.\n",
        "\n",
        "3. Función confirmar_valores(b):\n",
        "\n",
        "Recopila los valores ingresados por el usuario en los widgets y los guarda en la matriz.\n",
        "Limpia la pantalla (clear_output) y muestra la matriz ingresada usando sp.Matrix (para una representación formateada).\n",
        "\n",
        "4. Función mostrar_ecuaciones(matriz):\n",
        "\n",
        "Convierte la matriz en un sistema de ecuaciones lineales.\n",
        "Utiliza sp.symbols para crear variables simbólicas (x1, x2, ...).\n",
        "Construye las ecuaciones lineales multiplicando los elementos de la matriz por las variables correspondientes.\n",
        "\n",
        "5. Función calcular_valores_vectores_propios(matriz):\n",
        "\n",
        "Intenta calcular los valores y vectores propios de la matriz usando np.linalg.eig.\n",
        "Muestra los valores y vectores propios calculados numéricamente.\n",
        "Si la matriz no es cuadrada, muestra un mensaje de error.\n",
        "\n",
        "6. Función graficar_diagrama_fase(matriz):\n",
        "\n",
        "Crea un diagrama de fase que visualiza el comportamiento del sistema dinámico definido por la matriz.\n",
        "Utiliza np.meshgrid para crear una malla de puntos en el plano.\n",
        "Calcula las derivadas del sistema (dXdt) usando la matriz y la malla de puntos.\n",
        "Utiliza plt.quiver para dibujar flechas que representan la dirección y magnitud del campo vectorial en cada punto.\n",
        "\n",
        "7. Función graficar_solucion_diferencial(matriz):\n",
        "\n",
        "Resuelve numéricamente la ecuación diferencial y' = matriz @ y usando odeint.\n",
        "Grafica la solución de cada variable en función del tiempo\n",
        "\n",
        "8. Función main():\n",
        "\n",
        "Crea widgets interactivos para que el usuario ingrese las dimensiones de la matriz\n",
        "Muestra un mensaje de error si las dimensiones ingresadas no son válidas.\n",
        "\n",
        "9. Llamada a main():\n",
        "\n",
        "Ejecuta la función main() para iniciar el programa interactivo.\n",
        "\n",
        "\n",
        "En resumen, este código proporciona una herramienta interactiva para:\n",
        "\n",
        "Introducir una matriz cuadrada.\n",
        "Visualizar el sistema de ecuaciones lineales asociado.\n",
        "Calcular y mostrar los valores y vectores propios de la matriz.\n",
        "Visualizar el diagrama de fase del sistema dinámico.\n",
        "Graficar la solución de la ecuación diferencial a través del tiempo.\n",
        "\n"
      ],
      "metadata": {
        "id": "deQo_hEoUZJJ"
      }
    },
    {
      "cell_type": "markdown",
      "source": [
        "##Fuentes de información##\n",
        "\n",
        "\n",
        "Para la elaboración del programa, no se basó en una única fuente, sino en la integración de conceptos y técnicas de diferentes fuentes de información.\n",
        "\n",
        "Se  utilizaron conceptos fundamentales como matrices, vectores, valores y vectores propios, sistemas de ecuaciones lineales y determinantes. **Gilbert Strang, David C. Lay y Serge Lang**\n",
        "Ecuaciones diferenciales: **Strogatz Steven \"nonlinear dynamics and chaos\"**\n",
        "**Ecuaciones Diferenciales con Aplicaciones\" de Dennis G.**"
      ],
      "metadata": {
        "id": "j6XegjN-VltZ"
      }
    },
    {
      "cell_type": "markdown",
      "source": [
        "#Código- Programa borrador#"
      ],
      "metadata": {
        "id": "WzT8V32pWkBc"
      }
    },
    {
      "cell_type": "code",
      "execution_count": null,
      "metadata": {
        "colab": {
          "base_uri": "https://localhost:8080/",
          "height": 1000,
          "referenced_widgets": [
            "381cc95cc7f0483da754742950012cf7",
            "1c8d161cf3414057a842cc8c6f25e783",
            "dde86496fe5e40d8b194e09340b8689f",
            "ed76244ef1aa451984af466218012c84",
            "5ab8e3524225442b952413318e07fd1f",
            "eecf53cd4d5f4e7d93015b8b5f3f66d0",
            "bba3547684d64964a9174b851227dc99",
            "70c1908a6b2a49d28f8ea717075e3931",
            "fc245e9aa3dd4ac483607fe640bbfd3f",
            "353ebfb9b02d4dcfbf425015b7d585b2",
            "4df7d8bfe67e4480aa13918b251cfa7c",
            "dec291bdb8bc46c4895e4aff43088159",
            "93a1d6745a97466a9221aa6b00218217",
            "42be7f14779d41a1abbc7fc0bd59c9da",
            "2264c1a9dea74cbba56fdd95eab672e1",
            "dc07a8744a664a4d8d332e06aa978353",
            "e452ac2fa2ad4978ace031cac5a82c2b",
            "bee275a185584559ba07bf55e65d03f6",
            "a2805839265947c1bb0b6f41abf88d19",
            "ddc2ca11822e46d999d476b175ef641e",
            "c568c999239241cd849ab39a15eb80a3",
            "4b1afec1951d470c91495128041a75d2",
            "685b606cc60f495db6e2c9c62769015e",
            "4ce2814ded714e40bf2b450198b00734",
            "fe431b62aabf4828b2a6a3e684893f97",
            "1f72fbeb1ecb4496abab8391d076b707",
            "bb73440f022b48b9958acdf8d99d3124",
            "7cfebff2be0344abbdb9e7a81ca71ac1"
          ]
        },
        "id": "Rb1bh45lMGuG",
        "outputId": "0792fe8b-1264-4aae-90fd-8602f9bcb66b"
      },
      "outputs": [
        {
          "output_type": "display_data",
          "data": {
            "text/plain": [
              "<IPython.core.display.Markdown object>"
            ],
            "text/markdown": "### Matriz ingresada:"
          },
          "metadata": {}
        },
        {
          "output_type": "display_data",
          "data": {
            "text/plain": [
              "Matrix([\n",
              "[2.0, -1.0],\n",
              "[3.0,  4.0]])"
            ],
            "text/latex": "$\\displaystyle \\left[\\begin{matrix}2.0 & -1.0\\\\3.0 & 4.0\\end{matrix}\\right]$"
          },
          "metadata": {}
        },
        {
          "output_type": "display_data",
          "data": {
            "text/plain": [
              "<IPython.core.display.Markdown object>"
            ],
            "text/markdown": "### Sistema de Ecuaciones:"
          },
          "metadata": {}
        },
        {
          "output_type": "display_data",
          "data": {
            "text/plain": [
              "<IPython.core.display.Markdown object>"
            ],
            "text/markdown": "Ecuación 1: $2.0 x_{1} - 1.0 x_{2} = 0$"
          },
          "metadata": {}
        },
        {
          "output_type": "display_data",
          "data": {
            "text/plain": [
              "<IPython.core.display.Markdown object>"
            ],
            "text/markdown": "Ecuación 2: $3.0 x_{1} + 4.0 x_{2} = 0$"
          },
          "metadata": {}
        },
        {
          "output_type": "display_data",
          "data": {
            "text/plain": [
              "<IPython.core.display.Markdown object>"
            ],
            "text/markdown": "### Procedimiento para Calcular Valores y Vectores Propios"
          },
          "metadata": {}
        },
        {
          "output_type": "display_data",
          "data": {
            "text/plain": [
              "<IPython.core.display.Markdown object>"
            ],
            "text/markdown": "\n1. **Definición de la Ecuación Característica**:\n   - Para una matriz cuadrada \\( A \\), los valores propios son las soluciones de:\n   \\[\n   \text{det}(A - \\lambda I) = 0\n   \\]\n   donde \\( I \\) es la matriz identidad.\n\n2. **Cálculo del Polinomio Característico**:\n   - Se calcula el determinante:\n   \\[\n   \text{det}(A - \\lambda I)\n   \\]\n   obteniendo un polinomio en términos de \\( \\lambda \\).\n\n3. **Resolución del Polinomio**:\n   - Las raíces del polinomio característico son los valores propios.\n\n4. **Cálculo de Vectores Propios**:\n   - Para cada valor propio \\( \\lambda_i \\), se resuelve el sistema lineal:\n   \\[\n   (A - \\lambda_i I)x = 0\n   \\]\n   para encontrar los vectores propios asociados.\n"
          },
          "metadata": {}
        },
        {
          "output_type": "display_data",
          "data": {
            "text/plain": [
              "<IPython.core.display.Markdown object>"
            ],
            "text/markdown": "### Polinomio Característico"
          },
          "metadata": {}
        },
        {
          "output_type": "display_data",
          "data": {
            "text/plain": [
              "<IPython.core.display.Markdown object>"
            ],
            "text/markdown": "\\[ p(\\lambda) = λ^{2} - 6.0 λ + 11.0 \\]"
          },
          "metadata": {}
        },
        {
          "output_type": "display_data",
          "data": {
            "text/plain": [
              "<IPython.core.display.Markdown object>"
            ],
            "text/markdown": "### Valores Propios (Raíces del Polinomio Característico)"
          },
          "metadata": {}
        },
        {
          "output_type": "display_data",
          "data": {
            "text/plain": [
              "<IPython.core.display.Markdown object>"
            ],
            "text/markdown": "\\( \\lambda_1 = 3.0 - 1.4142135623731 i \\)"
          },
          "metadata": {}
        },
        {
          "output_type": "display_data",
          "data": {
            "text/plain": [
              "<IPython.core.display.Markdown object>"
            ],
            "text/markdown": "\\( \\lambda_2 = 3.0 + 1.4142135623731 i \\)"
          },
          "metadata": {}
        },
        {
          "output_type": "display_data",
          "data": {
            "text/plain": [
              "<IPython.core.display.Markdown object>"
            ],
            "text/markdown": "### Valores Propios Calculados Numéricamente"
          },
          "metadata": {}
        },
        {
          "output_type": "display_data",
          "data": {
            "text/plain": [
              "<IPython.core.display.Markdown object>"
            ],
            "text/markdown": "Valor propio 1: 3.0000+1.4142j"
          },
          "metadata": {}
        },
        {
          "output_type": "display_data",
          "data": {
            "text/plain": [
              "<IPython.core.display.Markdown object>"
            ],
            "text/markdown": "Valor propio 2: 3.0000-1.4142j"
          },
          "metadata": {}
        },
        {
          "output_type": "display_data",
          "data": {
            "text/plain": [
              "<IPython.core.display.Markdown object>"
            ],
            "text/markdown": "### Vectores Propios Asociados"
          },
          "metadata": {}
        },
        {
          "output_type": "display_data",
          "data": {
            "text/plain": [
              "<IPython.core.display.Markdown object>"
            ],
            "text/markdown": "Vector propio asociado a \\( \\lambda_1 \\): [0.2887-0.4082j, -0.8660+0.0000j]"
          },
          "metadata": {}
        },
        {
          "output_type": "display_data",
          "data": {
            "text/plain": [
              "<IPython.core.display.Markdown object>"
            ],
            "text/markdown": "Vector propio asociado a \\( \\lambda_2 \\): [0.2887+0.4082j, -0.8660-0.0000j]"
          },
          "metadata": {}
        },
        {
          "output_type": "display_data",
          "data": {
            "text/plain": [
              "<Figure size 800x600 with 1 Axes>"
            ],
            "image/png": "[encoded data removed]"
          },
          "metadata": {}
        },
        {
          "output_type": "display_data",
          "data": {
            "text/plain": [
              "<Figure size 800x600 with 1 Axes>"
            ],
            "image/png": "[encoded data removed]"
          },
          "metadata": {}
        }
      ],
      "source": [
        "# Importar las bibliotecas necesarias\n",
        "import numpy as np\n",
        "import sympy as sp\n",
        "import ipywidgets as widgets\n",
        "from IPython.display import display, Markdown, clear_output\n",
        "import matplotlib.pyplot as plt\n",
        "from scipy.integrate import odeint\n",
        "\n",
        "# Función para crear la matriz interactivamente\n",
        "def crear_matriz_interactiva(filas, columnas):\n",
        "    matriz = np.zeros((filas, columnas))\n",
        "    inputs = []\n",
        "\n",
        "    # Crear widgets para ingresar los valores de la matriz\n",
        "    for i in range(filas):\n",
        "        fila_inputs = []\n",
        "        for j in range(columnas):\n",
        "            input_box = widgets.FloatText(\n",
        "                value=0.0,\n",
        "                description=f\"A[{i+1},{j+1}]\",\n",
        "                layout=widgets.Layout(width='150px')\n",
        "            )\n",
        "            fila_inputs.append(input_box)\n",
        "        inputs.append(fila_inputs)\n",
        "\n",
        "    # Mostrar los widgets en una tabla\n",
        "    display(Markdown(\"### Ingrese los valores de la matriz:\"))\n",
        "    for fila in inputs:\n",
        "        display(widgets.HBox(fila))\n",
        "\n",
        "    # Botón para confirmar los valores\n",
        "    def confirmar_valores(b):\n",
        "        for i in range(filas):\n",
        "            for j in range(columnas):\n",
        "                matriz[i][j] = inputs[i][j].value\n",
        "\n",
        "        clear_output(wait=True)\n",
        "        display(Markdown(\"### Matriz ingresada:\"))\n",
        "        display(sp.Matrix(matriz))\n",
        "\n",
        "        # Mostrar sistema de ecuaciones, valores y vectores propios\n",
        "        mostrar_ecuaciones(matriz)\n",
        "        calcular_valores_vectores_propios(matriz)\n",
        "\n",
        "        # Generar y mostrar el diagrama de fase\n",
        "        graficar_diagrama_fase(matriz)\n",
        "\n",
        "        # Graficar la solución de la ecuación diferencial a través del tiempo\n",
        "        graficar_solucion_diferencial(matriz)\n",
        "\n",
        "    boton_confirmar = widgets.Button(description=\"Confirmar valores\")\n",
        "    boton_confirmar.on_click(confirmar_valores)\n",
        "    display(boton_confirmar)\n",
        "\n",
        "# Función para mostrar el sistema de ecuaciones\n",
        "def mostrar_ecuaciones(matriz):\n",
        "    filas, columnas = matriz.shape\n",
        "    variables = sp.symbols(f'x1:{columnas+1}')\n",
        "\n",
        "    ecuaciones = []\n",
        "    for i in range(filas):\n",
        "        ecuacion = sum(matriz[i][j] * variables[j] for j in range(columnas))\n",
        "        ecuaciones.append(ecuacion)\n",
        "\n",
        "    display(Markdown(\"### Sistema de Ecuaciones:\"))\n",
        "    for i, eq in enumerate(ecuaciones):\n",
        "        eq_formateada = sp.Eq(eq, 0)  # Representa la ecuación como igual a cero\n",
        "        latex_eq = sp.latex(eq_formateada).replace('1 ', '')  # Eliminar \"1 \" en el LaTeX\n",
        "\n",
        "        display(Markdown(f\"Ecuación {i+1}: ${latex_eq}$\"))\n",
        "\n",
        "# Función para calcular valores y vectores propios con explicación detallada\n",
        "def calcular_valores_vectores_propios(matriz):\n",
        "    try:\n",
        "        # Mostrar explicación del procedimiento\n",
        "        display(Markdown(\"### Procedimiento para Calcular Valores y Vectores Propios\"))\n",
        "        display(Markdown(\"\"\"\n",
        "1. **Definición de la Ecuación Característica**:\n",
        "   - Para una matriz cuadrada \\( A \\), los valores propios son las soluciones de:\n",
        "   \\[\n",
        "   \\text{det}(A - \\lambda I) = 0\n",
        "   \\]\n",
        "   donde \\( I \\) es la matriz identidad.\n",
        "\n",
        "2. **Cálculo del Polinomio Característico**:\n",
        "   - Se calcula el determinante:\n",
        "   \\[\n",
        "   \\text{det}(A - \\lambda I)\n",
        "   \\]\n",
        "   obteniendo un polinomio en términos de \\( \\lambda \\).\n",
        "\n",
        "3. **Resolución del Polinomio**:\n",
        "   - Las raíces del polinomio característico son los valores propios.\n",
        "\n",
        "4. **Cálculo de Vectores Propios**:\n",
        "   - Para cada valor propio \\( \\lambda_i \\), se resuelve el sistema lineal:\n",
        "   \\[\n",
        "   (A - \\lambda_i I)x = 0\n",
        "   \\]\n",
        "   para encontrar los vectores propios asociados.\n",
        "\"\"\"))\n",
        "\n",
        "        # Paso 1: Calcular los valores propios y vectores propios usando NumPy\n",
        "        valores_propios, vectores_propios = np.linalg.eig(matriz)\n",
        "\n",
        "        # Mostrar cálculo del polinomio característico usando SymPy\n",
        "        lambda_symbol = sp.symbols('λ')\n",
        "        identidad = np.eye(matriz.shape[0])  # Matriz identidad\n",
        "        matriz_simbolica = sp.Matrix(matriz)  # Convertir a matriz simbólica\n",
        "        polinomio_caracteristico = sp.det(matriz_simbolica - lambda_symbol * sp.eye(matriz.shape[0]))\n",
        "\n",
        "        display(Markdown(\"### Polinomio Característico\"))\n",
        "        display(Markdown(f\"\\\\[ p(\\\\lambda) = {sp.latex(polinomio_caracteristico)} \\\\]\"))\n",
        "\n",
        "        # Resolver las raíces del polinomio característico (valores propios)\n",
        "        raices = sp.solve(polinomio_caracteristico, lambda_symbol)\n",
        "        display(Markdown(\"### Valores Propios (Raíces del Polinomio Característico)\"))\n",
        "        for i, raiz in enumerate(raices):\n",
        "            display(Markdown(f\"\\\\( \\\\lambda_{i+1} = {sp.latex(raiz)} \\\\)\"))\n",
        "\n",
        "        # Mostrar los valores propios calculados numéricamente\n",
        "        display(Markdown(\"### Valores Propios Calculados Numéricamente\"))\n",
        "        for i, valor in enumerate(valores_propios):\n",
        "            display(Markdown(f\"Valor propio {i+1}: {valor:.4f}\"))\n",
        "\n",
        "        # Paso 2: Mostrar vectores propios asociados a cada valor propio\n",
        "        display(Markdown(\"### Vectores Propios Asociados\"))\n",
        "        for i, vector in enumerate(vectores_propios.T):\n",
        "            vector_str = \", \".join([f\"{v:.4f}\" for v in vector])\n",
        "            display(Markdown(f\"Vector propio asociado a \\\\( \\\\lambda_{i+1} \\\\): [{vector_str}]\"))\n",
        "\n",
        "    except np.linalg.LinAlgError:\n",
        "        display(Markdown(\"**Error:** No se pudieron calcular los valores y vectores propios. Asegúrate de que la matriz sea cuadrada.\"))\n",
        "\n",
        "# Función para graficar el diagrama de fase\n",
        "def graficar_diagrama_fase(matriz):\n",
        "    xlim = (-10, 10)\n",
        "    ylim = (-10, 10)\n",
        "\n",
        "    x = np.linspace(xlim[0], xlim[1], 20)\n",
        "    y = np.linspace(ylim[0], ylim[1], 20)\n",
        "    X1, Y1 = np.meshgrid(x, y)\n",
        "\n",
        "    dXdt = matriz @ np.array([X1.ravel(), Y1.ravel()])\n",
        "\n",
        "    plt.figure(figsize=(8, 6))\n",
        "\n",
        "    plt.quiver(X1, Y1, dXdt[0].reshape(X1.shape), dXdt[1].reshape(Y1.shape), color='r', headlength=3)\n",
        "\n",
        "    plt.xlim(xlim)\n",
        "    plt.ylim(ylim)\n",
        "\n",
        "    plt.title('Diagrama de Fase')\n",
        "    plt.xlabel('x1 (Variable 1)')\n",
        "    plt.ylabel('x2 (Variable 2)')\n",
        "\n",
        "    plt.grid()\n",
        "    plt.axhline(0, color='black', lw=0.5, ls='--')\n",
        "    plt.axvline(0, color='black', lw=0.5, ls='--')\n",
        "\n",
        "    plt.show()\n",
        "\n",
        "# Función para graficar la solución de la ecuación diferencial a través del tiempo\n",
        "def graficar_solucion_diferencial(matriz):\n",
        "    t_start = 0\n",
        "    t_stop = 10\n",
        "    t_steps = 100\n",
        "    t = np.linspace(t_start, t_stop, t_steps)\n",
        "\n",
        "    y0 = [1] * matriz.shape[0]\n",
        "\n",
        "    def sistema(y, t):\n",
        "        return matriz @ np.array(y)\n",
        "\n",
        "    solucion = odeint(sistema, y0, t)\n",
        "\n",
        "    plt.figure(figsize=(8, 6))\n",
        "\n",
        "    for i in range(solucion.shape[1]):\n",
        "        plt.plot(t, solucion[:, i], label=f'Variable {i+1} ($x_{i+1}$)')\n",
        "\n",
        "    plt.title('Solución de la Ecuación Diferencial a Través del Tiempo')\n",
        "    plt.xlabel('Tiempo')\n",
        "    plt.ylabel('Valor de las Variables')\n",
        "\n",
        "    plt.grid()\n",
        "\n",
        "    plt.legend(title=\"Variables:\", loc=\"best\")\n",
        "\n",
        "    plt.show()\n",
        "\n",
        "# Función principal con widgets interactivos\n",
        "def main():\n",
        "    filas_input = widgets.IntText(value=2, description=\"Filas:\", layout=widgets.Layout(width='200px'))\n",
        "    columnas_input = widgets.IntText(value=2, description=\"Columnas:\", layout=widgets.Layout(width='200px'))\n",
        "\n",
        "    def confirmar_dimensiones(b):\n",
        "        filas = filas_input.value\n",
        "        columnas = columnas_input.value\n",
        "\n",
        "        if filas > 0 and columnas > 0:\n",
        "            clear_output(wait=True)\n",
        "            crear_matriz_interactiva(filas, columnas)\n",
        "        else:\n",
        "            display(Markdown(\"**Error:** Las dimensiones deben ser mayores a 0.\"))\n",
        "\n",
        "    boton_confirmar_dimensiones = widgets.Button(description=\"Confirmar dimensiones\")\n",
        "    boton_confirmar_dimensiones.on_click(confirmar_dimensiones)\n",
        "\n",
        "    display(Markdown(\"## Programa Interactivo para Trabajar con Matrices\"))\n",
        "    display(filas_input, columnas_input, boton_confirmar_dimensiones)\n",
        "\n",
        "main()"
      ]
    },
    {
      "cell_type": "markdown",
      "source": [
        "##Correcciones##"
      ],
      "metadata": {
        "id": "Y2SLSEuqqUn1"
      }
    },
    {
      "cell_type": "code",
      "source": [
        "# Importar las bibliotecas necesarias\n",
        "import numpy as np\n",
        "import sympy as sp\n",
        "import ipywidgets as widgets\n",
        "from IPython.display import display, Markdown, clear_output\n",
        "import matplotlib.pyplot as plt\n",
        "from scipy.integrate import odeint\n",
        "\n",
        "# Función para crear la matriz interactivamente\n",
        "def crear_matriz_interactiva(filas, columnas):\n",
        "    matriz = np.zeros((filas, columnas))\n",
        "    inputs = []\n",
        "\n",
        "    # Crear widgets para ingresar los valores de la matriz\n",
        "    for i in range(filas):\n",
        "        fila_inputs = []\n",
        "        for j in range(columnas):\n",
        "            input_box = widgets.FloatText(\n",
        "                value=0.0,\n",
        "                description=f\"A[{i+1},{j+1}]\",\n",
        "                layout=widgets.Layout(width='150px')\n",
        "            )\n",
        "            fila_inputs.append(input_box)\n",
        "        inputs.append(fila_inputs)\n",
        "\n",
        "    # Mostrar los widgets en una tabla\n",
        "    display(Markdown(\"### Ingrese los valores de la matriz:\"))\n",
        "    for fila in inputs:\n",
        "        display(widgets.HBox(fila))\n",
        "\n",
        "    # Botón para confirmar los valores\n",
        "    def confirmar_valores(b):\n",
        "        for i in range(filas):\n",
        "            for j in range(columnas):\n",
        "                matriz[i][j] = inputs[i][j].value\n",
        "\n",
        "        clear_output(wait=True)\n",
        "        display(Markdown(\"### Matriz ingresada:\"))\n",
        "        display(sp.Matrix(matriz))\n",
        "\n",
        "        # Mostrar sistema de ecuaciones, valores y vectores propios\n",
        "        mostrar_ecuaciones(matriz)\n",
        "        calcular_valores_vectores_propios(matriz)\n",
        "\n",
        "        # Generar y mostrar el diagrama de fase\n",
        "        graficar_diagrama_fase(matriz)\n",
        "\n",
        "        # Graficar la solución de la ecuación diferencial a través del tiempo\n",
        "        graficar_solucion_diferencial(matriz)\n",
        "\n",
        "    boton_confirmar = widgets.Button(description=\"Confirmar valores\")\n",
        "    boton_confirmar.on_click(confirmar_valores)\n",
        "    display(boton_confirmar)\n",
        "\n",
        "# Función para mostrar el sistema de ecuaciones\n",
        "def mostrar_ecuaciones(matriz):\n",
        "    filas, columnas = matriz.shape\n",
        "    variables = sp.symbols(f'x1:{columnas+1}')\n",
        "\n",
        "    ecuaciones = []\n",
        "    for i in range(filas):\n",
        "        ecuacion = sum(matriz[i][j] * variables[j] for j in range(columnas))\n",
        "        ecuaciones.append(ecuacion)\n",
        "\n",
        "    display(Markdown(\"### Sistema de Ecuaciones:\"))\n",
        "    for i, eq in enumerate(ecuaciones):\n",
        "        eq_formateada = sp.Eq(eq, 0)  # Representa la ecuación como igual a cero\n",
        "        latex_eq = sp.latex(eq_formateada).replace('1 ', '')  # Eliminar \"1 \" en el LaTeX\n",
        "\n",
        "        display(Markdown(f\"Ecuación {i+1}: ${latex_eq}$\"))\n",
        "\n",
        "# Función para calcular valores y vectores propios con explicación detallada\n",
        "def calcular_valores_vectores_propios(matriz):\n",
        "    try:\n",
        "        # Mostrar explicación del procedimiento\n",
        "        display(Markdown(\"### Procedimiento para Calcular Valores y Vectores Propios\"))\n",
        "\n",
        "        # Explicación mejorada del procedimiento\n",
        "        display(Markdown(\"\"\"\n",
        "**[Pasos a seguir](pplx://action/followup):**\n",
        "\n",
        "1. **[Definición de la Ecuación Característica](pplx://action/followup)**:\n",
        "   - Para una matriz cuadrada \\( A \\), los valores propios son las soluciones de:\n",
        "   $$\n",
        "   \\text{det}(A - \\lambda I) = 0\n",
        "   $$\n",
        "   donde \\( I \\) es la matriz identidad.\n",
        "\n",
        "2. **[Cálculo del Polinomio Característico](pplx://action/followup)**:\n",
        "   - Se calcula el determinante:\n",
        "   $$\n",
        "   \\text{det}(A - \\lambda I)\n",
        "   $$\n",
        "   obteniendo un polinomio en términos de \\( \\lambda \\).\n",
        "\n",
        "3. **[Resolución del Polinomio](pplx://action/followup)**:\n",
        "   - Las raíces del polinomio característico son los valores propios.\n",
        "\n",
        "4. **[Cálculo de Vectores Propios](pplx://action/followup)**:\n",
        "   - Para cada valor propio \\( \\lambda_i \\), se resuelve el sistema lineal:\n",
        "   $$\n",
        "   (A - \\lambda_i I)x = 0\n",
        "   $$\n",
        "   para encontrar los vectores propios asociados.\n",
        "\"\"\"))\n",
        "\n",
        "        # Paso 1: Calcular los valores propios y vectores propios usando NumPy\n",
        "        valores_propios, vectores_propios = np.linalg.eig(matriz)\n",
        "\n",
        "        # Mostrar cálculo del polinomio característico usando SymPy\n",
        "        lambda_symbol = sp.symbols('λ')\n",
        "        identidad = np.eye(matriz.shape[0])  # Matriz identidad\n",
        "        matriz_simbolica = sp.Matrix(matriz)  # Convertir a matriz simbólica\n",
        "        polinomio_caracteristico = sp.det(matriz_simbolica - lambda_symbol * sp.eye(matriz.shape[0]))\n",
        "\n",
        "        display(Markdown(\"### Polinomio Característico\"))\n",
        "        display(Markdown(rf\"$$ p(\\lambda) = {sp.latex(polinomio_caracteristico)} $$\"))\n",
        "\n",
        "        # Resolver las raíces del polinomio característico (valores propios)\n",
        "        raices = sp.solve(polinomio_caracteristico, lambda_symbol)\n",
        "\n",
        "        display(Markdown(\"### Valores Propios (Raíces del Polinomio Característico)\"))\n",
        "\n",
        "        for i, raiz in enumerate(raices):\n",
        "            display(Markdown(rf\"$$ \\lambda_{i+1} = {sp.latex(raiz)} $$\"))\n",
        "\n",
        "        # Mostrar los valores propios calculados numéricamente\n",
        "        display(Markdown(\"### Valores Propios Calculados Numéricamente\"))\n",
        "\n",
        "        for i, valor in enumerate(valores_propios):\n",
        "            display(Markdown(f\"Valor propio {i+1}: {valor:.4f}\"))\n",
        "\n",
        "        # Clasificación de las raíces (Nota sobre su naturaleza)\n",
        "\n",
        "        if len(valores_propios) == 2:  # Solo aplicable a polinomios cuadráticos (2x2)\n",
        "            diferencia = abs(valores_propios[0] - valores_propios[1])\n",
        "            if diferencia < 10e-8:\n",
        "                nota_diferencia = \"Las raíces son prácticamente iguales.\"\n",
        "            else:\n",
        "                nota_diferencia = \"Las raíces son distintas.\"\n",
        "\n",
        "            a, b, c = sp.Poly(polinomio_caracteristico).all_coeffs()\n",
        "            discriminante = b**2 - 4*a*c\n",
        "\n",
        "            if discriminante > 0:\n",
        "                tipo_raiz = \"reales y distintas\"\n",
        "            elif discriminante == 0:\n",
        "                tipo_raiz = \"reales e iguales\"\n",
        "            else:\n",
        "                tipo_raiz = \"imaginarias\"\n",
        "\n",
        "            display(Markdown(f\"### Nota: Las raíces son **{tipo_raiz}**.\"))\n",
        "            display(Markdown(f\"### Observación: {nota_diferencia}\"))\n",
        "\n",
        "        # Paso 2: Mostrar vectores propios asociados a cada valor propio\n",
        "        display(Markdown(\"### Vectores Propios Asociados\"))\n",
        "\n",
        "        for i, vector in enumerate(vectores_propios.T):\n",
        "            vector_str = \", \".join([f\"{v:.4f}\" for v in vector])\n",
        "            display(Markdown(rf\"Vector propio asociado a $$ \\lambda_{i+1} $$: [{vector_str}]\"))\n",
        "\n",
        "    except np.linalg.LinAlgError:\n",
        "        display(Markdown(\"**Error:** No se pudieron calcular los valores y vectores propios. Asegúrate de que la matriz sea cuadrada.\"))\n",
        "\n",
        "# Función para graficar el diagrama de fase (sin cambios)\n",
        "def graficar_diagrama_fase(matriz):\n",
        "    xlim = (-10, 10)\n",
        "    ylim = (-10, 10)\n",
        "\n",
        "    x = np.linspace(xlim[0], xlim[1], 20)\n",
        "    y = np.linspace(ylim[0], ylim[1], 20)\n",
        "    X1, Y1 = np.meshgrid(x, y)\n",
        "\n",
        "    dXdt = matriz @ np.array([X1.ravel(), Y1.ravel()])\n",
        "\n",
        "    plt.figure(figsize=(8, 6))\n",
        "\n",
        "    plt.quiver(X1, Y1, dXdt[0].reshape(X1.shape), dXdt[1].reshape(Y1.shape), color='r', headlength=3)\n",
        "\n",
        "    plt.xlim(xlim)\n",
        "    plt.ylim(ylim)\n",
        "\n",
        "    plt.title('Diagrama de Fase')\n",
        "    plt.xlabel('x1 (Variable 1)')\n",
        "    plt.ylabel('x2 (Variable 2)')\n",
        "\n",
        "    plt.grid()\n",
        "    plt.axhline(0, color='black', lw=0.5, ls='--')\n",
        "    plt.axvline(0, color='black', lw=0.5, ls='--')\n",
        "\n",
        "    plt.show()\n",
        "\n",
        "# Función para graficar la solución de la ecuación diferencial a través del tiempo (sin cambios)\n",
        "def graficar_solucion_diferencial(matriz):\n",
        "    t_start = 0\n",
        "    t_stop = 10\n",
        "    t_steps = 100\n",
        "    t = np.linspace(t_start, t_stop, t_steps)\n",
        "\n",
        "    y0 = [1] * matriz.shape[0]\n",
        "\n",
        "    def sistema(y, t):\n",
        "        return matriz @ np.array(y)\n",
        "\n",
        "    solucion = odeint(sistema, y0, t)\n",
        "\n",
        "    plt.figure(figsize=(8, 6))\n",
        "\n",
        "    for i in range(solucion.shape[1]):\n",
        "        plt.plot(t, solucion[:, i], label=f'Variable {i+1} ($x_{i+1}$)')\n",
        "\n",
        "    plt.title('Solución de la Ecuación Diferencial a Través del Tiempo')\n",
        "    plt.xlabel('Tiempo')\n",
        "    plt.ylabel('Valor de las Variables')\n",
        "\n",
        "    plt.grid()\n",
        "\n",
        "    plt.legend(title=\"Variables:\", loc=\"best\")\n",
        "\n",
        "    plt.show()\n",
        "\n",
        "# Función principal con widgets interactivos (sin cambios)\n",
        "def main():\n",
        "    filas_input = widgets.IntText(value=2, description=\"Filas:\", layout=widgets.Layout(width='200px'))\n",
        "    columnas_input = widgets.IntText(value=2, description=\"Columnas:\", layout=widgets.Layout(width='200px'))\n",
        "\n",
        "    def confirmar_dimensiones(b):\n",
        "        filas = filas_input.value\n",
        "        columnas = columnas_input.value\n",
        "\n",
        "        if filas > 0 and columnas > 0:\n",
        "            clear_output(wait=True)\n",
        "            crear_matriz_interactiva(filas, columnas)\n",
        "        else:\n",
        "            display(Markdown(\"**Error:** Las dimensiones deben ser mayores a 0.\"))\n",
        "\n",
        "    boton_confirmar_dimensiones = widgets.Button(description=\"Confirmar dimensiones\")\n",
        "    boton_confirmar_dimensiones.on_click(confirmar_dimensiones)\n",
        "\n",
        "    display(Markdown(\"## Programa Interactivo para Trabajar con Matrices\"))\n",
        "    display(filas_input, columnas_input, boton_confirmar_dimensiones)\n",
        "\n",
        "main()"
      ],
      "metadata": {
        "colab": {
          "base_uri": "https://localhost:8080/",
          "height": 1000,
          "referenced_widgets": [
            "b6231fff9b824ba386a03ad87bf96100",
            "a25ab529ae4a4b099a691f0c7166505f",
            "394eace12f3a4aa7bccf679900a734ab",
            "4bfd9e4e8e5649a4992cd0becbb29802",
            "fae72a6438464095843c5589707088ef",
            "a639969fef5b4b70b02881e9fb0227cc",
            "cf2ee917084a4ba6b49fbfa4459d3757",
            "e41f9fb90808425cacbdb567a944ee6a",
            "4fdf56df02bd46f28f77f931d74f6a88",
            "729922825c974a27ad7f21e81ea6f945",
            "b0f64619f0e249cdbb833abf5cad4236",
            "a832bf49923a47ebaa46f7b9882fcf43",
            "ee3b604abaca4612a449b14689b0d958",
            "ea1e061267b4483b90bdbdd8d811bec8",
            "9822e69393e54efe9595eafb8d749297",
            "0b2d64600adb49dab03cc570ba69fe71",
            "4d131f5c0b214086b922f3afb3cca073",
            "38505122bc5042d5b4576213f4d677a9",
            "ec58ee85e31d40b9ae2b92421bc85d7b",
            "0461c843c72a4e5284d387b667774b80",
            "402c2904e53141ec95988b93460cb102",
            "1accdca3cb5943ebaa6669bf1592ec7f",
            "7c334bed60d84bbca837d0d239d23068",
            "435a4737e7ee496aa76b541d72c7997f",
            "8ff0f51d7b044f0180d8eefbd0464fd8",
            "94ac38dc78b34c08a9e8b190e3f4f12f",
            "34c5d953692e4a79a664026833c4cf48",
            "2f0927a599ce46f1b58b023032b80aab"
          ]
        },
        "id": "DNkj4VKYpism",
        "outputId": "522f75f6-e9eb-4b57-dd03-26c35f770b46"
      },
      "execution_count": null,
      "outputs": [
        {
          "output_type": "display_data",
          "data": {
            "text/plain": [
              "<IPython.core.display.Markdown object>"
            ],
            "text/markdown": "### Matriz ingresada:"
          },
          "metadata": {}
        },
        {
          "output_type": "display_data",
          "data": {
            "text/plain": [
              "Matrix([\n",
              "[ 2.0, 0.0],\n",
              "[-1.0, 2.0]])"
            ],
            "text/latex": "$\\displaystyle \\left[\\begin{matrix}2.0 & 0.0\\\\-1.0 & 2.0\\end{matrix}\\right]$"
          },
          "metadata": {}
        },
        {
          "output_type": "display_data",
          "data": {
            "text/plain": [
              "<IPython.core.display.Markdown object>"
            ],
            "text/markdown": "### Sistema de Ecuaciones:"
          },
          "metadata": {}
        },
        {
          "output_type": "display_data",
          "data": {
            "text/plain": [
              "<IPython.core.display.Markdown object>"
            ],
            "text/markdown": "Ecuación 1: $2.0 x_{1} = 0$"
          },
          "metadata": {}
        },
        {
          "output_type": "display_data",
          "data": {
            "text/plain": [
              "<IPython.core.display.Markdown object>"
            ],
            "text/markdown": "Ecuación 2: $- 1.0 x_{1} + 2.0 x_{2} = 0$"
          },
          "metadata": {}
        },
        {
          "output_type": "display_data",
          "data": {
            "text/plain": [
              "<IPython.core.display.Markdown object>"
            ],
            "text/markdown": "### Procedimiento para Calcular Valores y Vectores Propios"
          },
          "metadata": {}
        },
        {
          "output_type": "display_data",
          "data": {
            "text/plain": [
              "<IPython.core.display.Markdown object>"
            ],
            "text/markdown": "\n**[Pasos a seguir](pplx://action/followup):**\n\n1. **[Definición de la Ecuación Característica](pplx://action/followup)**:\n   - Para una matriz cuadrada \\( A \\), los valores propios son las soluciones de:\n   $$\n   \text{det}(A - \\lambda I) = 0\n   $$\n   donde \\( I \\) es la matriz identidad.\n\n2. **[Cálculo del Polinomio Característico](pplx://action/followup)**:\n   - Se calcula el determinante:\n   $$\n   \text{det}(A - \\lambda I)\n   $$\n   obteniendo un polinomio en términos de \\( \\lambda \\).\n\n3. **[Resolución del Polinomio](pplx://action/followup)**:\n   - Las raíces del polinomio característico son los valores propios.\n\n4. **[Cálculo de Vectores Propios](pplx://action/followup)**:\n   - Para cada valor propio \\( \\lambda_i \\), se resuelve el sistema lineal:\n   $$\n   (A - \\lambda_i I)x = 0\n   $$\n   para encontrar los vectores propios asociados.\n"
          },
          "metadata": {}
        },
        {
          "output_type": "display_data",
          "data": {
            "text/plain": [
              "<IPython.core.display.Markdown object>"
            ],
            "text/markdown": "### Polinomio Característico"
          },
          "metadata": {}
        },
        {
          "output_type": "display_data",
          "data": {
            "text/plain": [
              "<IPython.core.display.Markdown object>"
            ],
            "text/markdown": "$$ p(\\lambda) = 1.0 λ^{2} - 4.0 λ + 4.0 $$"
          },
          "metadata": {}
        },
        {
          "output_type": "display_data",
          "data": {
            "text/plain": [
              "<IPython.core.display.Markdown object>"
            ],
            "text/markdown": "### Valores Propios (Raíces del Polinomio Característico)"
          },
          "metadata": {}
        },
        {
          "output_type": "display_data",
          "data": {
            "text/plain": [
              "<IPython.core.display.Markdown object>"
            ],
            "text/markdown": "$$ \\lambda_1 = 2.0 $$"
          },
          "metadata": {}
        },
        {
          "output_type": "display_data",
          "data": {
            "text/plain": [
              "<IPython.core.display.Markdown object>"
            ],
            "text/markdown": "### Valores Propios Calculados Numéricamente"
          },
          "metadata": {}
        },
        {
          "output_type": "display_data",
          "data": {
            "text/plain": [
              "<IPython.core.display.Markdown object>"
            ],
            "text/markdown": "Valor propio 1: 2.0000"
          },
          "metadata": {}
        },
        {
          "output_type": "display_data",
          "data": {
            "text/plain": [
              "<IPython.core.display.Markdown object>"
            ],
            "text/markdown": "Valor propio 2: 2.0000"
          },
          "metadata": {}
        },
        {
          "output_type": "display_data",
          "data": {
            "text/plain": [
              "<IPython.core.display.Markdown object>"
            ],
            "text/markdown": "### Nota: Las raíces son **reales e iguales**."
          },
          "metadata": {}
        },
        {
          "output_type": "display_data",
          "data": {
            "text/plain": [
              "<IPython.core.display.Markdown object>"
            ],
            "text/markdown": "### Observación: Las raíces son prácticamente iguales."
          },
          "metadata": {}
        },
        {
          "output_type": "display_data",
          "data": {
            "text/plain": [
              "<IPython.core.display.Markdown object>"
            ],
            "text/markdown": "### Vectores Propios Asociados"
          },
          "metadata": {}
        },
        {
          "output_type": "display_data",
          "data": {
            "text/plain": [
              "<IPython.core.display.Markdown object>"
            ],
            "text/markdown": "Vector propio asociado a $$ \\lambda_1 $$: [0.0000, 1.0000]"
          },
          "metadata": {}
        },
        {
          "output_type": "display_data",
          "data": {
            "text/plain": [
              "<IPython.core.display.Markdown object>"
            ],
            "text/markdown": "Vector propio asociado a $$ \\lambda_2 $$: [0.0000, 1.0000]"
          },
          "metadata": {}
        },
        {
          "output_type": "display_data",
          "data": {
            "text/plain": [
              "<Figure size 800x600 with 1 Axes>"
            ],
            "image/png": "[encoded data removed]"
          },
          "metadata": {}
        },
        {
          "output_type": "display_data",
          "data": {
            "text/plain": [
              "<Figure size 800x600 with 1 Axes>"
            ],
            "image/png": "[encoded data removed]"
          },
          "metadata": {}
        }
      ]
    },
    {
      "cell_type": "markdown",
      "source": [
        "##Versión final##"
      ],
      "metadata": {
        "id": "qqyZy9Yosm6l"
      }
    },
    {
      "cell_type": "code",
      "source": [
        "# Importar las bibliotecas necesarias\n",
        "import numpy as np\n",
        "import sympy as sp\n",
        "import ipywidgets as widgets\n",
        "from IPython.display import display, Markdown, clear_output\n",
        "import matplotlib.pyplot as plt\n",
        "from scipy.integrate import odeint\n",
        "from numpy.linalg import matrix_rank\n",
        "\n",
        "# Función para crear la matriz interactivamente\n",
        "def crear_matriz_interactiva(filas, columnas):\n",
        "    if filas != columnas:\n",
        "        display(Markdown(\"**Error:** La matriz debe ser cuadrada (el número de filas debe ser igual al número de columnas).\"))\n",
        "        return\n",
        "\n",
        "    matriz = np.zeros((filas, columnas))\n",
        "    inputs = []\n",
        "\n",
        "    # Crear widgets para ingresar los valores de la matriz\n",
        "    for i in range(filas):\n",
        "        fila_inputs = []\n",
        "        for j in range(columnas):\n",
        "            input_box = widgets.FloatText(\n",
        "                value=0.0,\n",
        "                description=f\"A[{i+1},{j+1}]\",\n",
        "                layout=widgets.Layout(width='150px')\n",
        "            )\n",
        "            fila_inputs.append(input_box)\n",
        "        inputs.append(fila_inputs)\n",
        "\n",
        "    # Mostrar los widgets en una tabla\n",
        "    display(Markdown(\"### Ingrese los valores de la matriz:\"))\n",
        "    for fila in inputs:\n",
        "        display(widgets.HBox(fila))\n",
        "\n",
        "    # Botón para confirmar los valores\n",
        "    def confirmar_valores(b):\n",
        "        for i in range(filas):\n",
        "            for j in range(columnas):\n",
        "                matriz[i][j] = inputs[i][j].value\n",
        "\n",
        "        clear_output(wait=True)\n",
        "        display(Markdown(\"### Matriz ingresada:\"))\n",
        "        display(sp.Matrix(matriz))\n",
        "\n",
        "        # Mostrar sistema de ecuaciones, valores y vectores propios\n",
        "        mostrar_ecuaciones(matriz)\n",
        "        valores_propios, vectores_propios = calcular_valores_vectores_propios(matriz)\n",
        "\n",
        "        # Generar y mostrar el diagrama de fase\n",
        "        if valores_propios is not None and vectores_propios is not None:\n",
        "            graficar_diagrama_fase(matriz, valores_propios, vectores_propios)\n",
        "\n",
        "        # Graficar la solución de la ecuación diferencial a través del tiempo\n",
        "        graficar_solucion_diferencial(matriz)\n",
        "\n",
        "    boton_confirmar = widgets.Button(description=\"Confirmar valores\")\n",
        "    boton_confirmar.on_click(confirmar_valores)\n",
        "    display(boton_confirmar)\n",
        "\n",
        "# Función para mostrar el sistema de ecuaciones\n",
        "def mostrar_ecuaciones(matriz):\n",
        "    filas, columnas = matriz.shape\n",
        "    x = sp.symbols(f'x1:{columnas+1}')  # Use x instead of variables\n",
        "\n",
        "    display(Markdown(\"### Sistema de Ecuaciones:\"))\n",
        "    for i in range(filas):\n",
        "        ecuacion = sum(matriz[i][j] * x[j] for j in range(columnas))\n",
        "        latex_eq = sp.latex(sp.Eq(ecuacion, 0))  # Format as equal to zero\n",
        "        display(Markdown(f\"Ecuación {i+1}: ${latex_eq}$\"))\n",
        "\n",
        "# Función para calcular valores y vectores propios con validación adicional\n",
        "def calcular_valores_vectores_propios(matriz):\n",
        "    try:\n",
        "        filas, columnas = matriz.shape\n",
        "\n",
        "        if filas != columnas:\n",
        "            display(Markdown(\"**Error:** La matriz debe ser cuadrada para calcular valores y vectores propios.\"))\n",
        "            return None, None\n",
        "\n",
        "        #Mostrar la traza y el determinante antes de los valores propios\n",
        "        display(Markdown(\"### Traza y Determinante\"))\n",
        "        traza = np.trace(matriz)\n",
        "        determinante = np.linalg.det(matriz)\n",
        "        display(Markdown(rf\"Traza(A) = ${sp.latex(traza)}$\"))\n",
        "        display(Markdown(rf\"Determinante(A) = ${sp.latex(determinante)}$\"))\n",
        "\n",
        "        # Mostrar explicación del procedimiento\n",
        "        display(Markdown(\"### Procedimiento para Calcular Valores y Vectores Propios\"))\n",
        "\n",
        "        # Paso 1: Calcular el polinomio característico usando SymPy\n",
        "        lam = sp.symbols('λ')  # Use lambda for eigenvalue\n",
        "        identidad = np.eye(matriz.shape[0])  # Matriz identidad\n",
        "        matriz_simbolica = sp.Matrix(matriz)  # Convertir a matriz simbólica\n",
        "        polinomio_caracteristico = sp.det(matriz_simbolica - lam * sp.eye(matriz.shape[0]))\n",
        "\n",
        "        display(Markdown(\"### Polinomio Característico\"))\n",
        "        display(Markdown(rf\"$$ p(\\lambda) = {sp.latex(polinomio_caracteristico)} $$\"))\n",
        "\n",
        "        # Resolver las raíces del polinomio característico (valores propios)\n",
        "        raices = sp.solve(polinomio_caracteristico, lam)\n",
        "\n",
        "        # Simplificar los valores propios simbólicos\n",
        "        raices_simplificadas = [sp.simplify(raiz) for raiz in raices]\n",
        "\n",
        "        # Determinar la naturaleza de las raíces\n",
        "        display(Markdown(\"### Naturaleza de las Raíces\"))\n",
        "        if all(raiz.is_real for raiz in raices_simplificadas):\n",
        "            if len(set(raices_simplificadas)) == 1 and len(raices_simplificadas) == matriz.shape[0]:\n",
        "                display(Markdown(\"**Las raíces son reales e iguales.**\"))\n",
        "            elif len(set(raices_simplificadas)) == len(raices_simplificadas):\n",
        "                display(Markdown(\"**Las raíces son reales y distintas.**\"))\n",
        "            else:\n",
        "                display(Markdown(\"**Las raíces son reales, pero hay repeticiones.**\"))\n",
        "        else:\n",
        "            display(Markdown(\"**Las raíces son imaginarias o complejas.**\"))\n",
        "\n",
        "        display(Markdown(\"### Valores Propios (Raíces del Polinomio Característico)\"))\n",
        "        for i, raiz in enumerate(raices_simplificadas):\n",
        "            display(Markdown(rf\"$$ \\lambda_{i+1} = {sp.latex(raiz)} $$\"))\n",
        "\n",
        "        valores_propios_np, vectores_propios_np = np.linalg.eig(matriz)\n",
        "\n",
        "        display(Markdown(\"### Valores Propios Calculados Numéricamente\"))\n",
        "        for i, valor in enumerate(valores_propios_np):\n",
        "            display(Markdown(f\"Valor propio {i+1}: {valor:.4f}\"))\n",
        "\n",
        "        # Mostrar vectores propios asociados a cada valor propio\n",
        "        display(Markdown(\"### Vectores Propios Asociados\"))\n",
        "        for i, vector in enumerate(vectores_propios_np.T):\n",
        "            vector_str = \", \".join([f\"{v:.4f}\" for v in vector])\n",
        "            display(Markdown(rf\"Vector propio asociado a $$ \\lambda_{i+1} $$: [{vector_str}]\"))\n",
        "\n",
        "        # Diagonalization Process\n",
        "        if len(valores_propios_np) == 2:\n",
        "            # Check for distinct eigenvalues (diagonalizable)\n",
        "            if abs(valores_propios_np[0] - valores_propios_np[1]) > 1e-8:  # Use a small tolerance\n",
        "                display(Markdown(\"### Proceso de Diagonalización\"))\n",
        "\n",
        "                # Form P matrix (eigenvectors as columns)\n",
        "                P_matriz = vectores_propios_np\n",
        "                P = sp.Matrix(P_matriz)\n",
        "                display(Markdown(\"#### Matriz P (Matriz de Vectores Propios):\"))\n",
        "                display(P)\n",
        "\n",
        "                # Form D matrix (eigenvalues on diagonal)\n",
        "                D_matriz = np.diag(valores_propios_np)\n",
        "                D = sp.Matrix(D_matriz)\n",
        "                display(Markdown(\"#### Matriz Diagonal D:\"))\n",
        "                display(D)\n",
        "\n",
        "                # Calculate P inverse\n",
        "                P_inv_np = np.linalg.inv(P_matriz)\n",
        "                P_inv = sp.Matrix(P_inv_np)\n",
        "\n",
        "                display(Markdown(\"#### Matriz Inversa de P (P⁻¹):\"))\n",
        "                display(P_inv)\n",
        "\n",
        "                # Verify A = PDP^-1\n",
        "                A_np = np.array(matriz).astype(np.float64)\n",
        "                PDPinv_np = P_matriz @ D_matriz @ P_inv_np\n",
        "                PDPinv = sp.Matrix(PDPinv_np)\n",
        "                display(Markdown(\"#### Verificación: A ≈ PDP⁻¹\"))\n",
        "                display(PDPinv)\n",
        "\n",
        "                # Express the solution in the eigenvector basis.  In the eigenvector basis, the system is decoupled\n",
        "\n",
        "                t = sp.symbols('t')\n",
        "                C1, C2 = sp.symbols('C1, C2') #Constants of integration\n",
        "\n",
        "                x1_t_eigenbasis = C1 * sp.exp(valores_propios_np[0] * t)\n",
        "                x2_t_eigenbasis = C2 * sp.exp(valores_propios_np[1] * t)\n",
        "\n",
        "                display(Markdown(\"### Solución en la Base de Vectores Propios:\"))\n",
        "                display(Markdown(rf\"x₁(t) = ${sp.latex(x1_t_eigenbasis)}$\"))\n",
        "                display(Markdown(rf\"x₂(t) = ${sp.latex(x2_t_eigenbasis)}$\"))\n",
        "\n",
        "                # express solution in the canonical basis\n",
        "                # [x1(t)] = P [x1_eigenbasis(t)]\n",
        "                # [x2(t)]     [x2_eigenbasis(t)]\n",
        "\n",
        "                solution_eigenbasis = sp.Matrix([x1_t_eigenbasis, x2_t_eigenbasis])\n",
        "                solution_canonical = P * solution_eigenbasis\n",
        "\n",
        "                # Combinar expand y factor para la máxima simplificación\n",
        "                x1_t_canonical = sp.factor(solution_canonical[0].expand())\n",
        "                x2_t_canonical = sp.factor(solution_canonical[1].expand())\n",
        "\n",
        "                display(Markdown(\"### Solución en la Base Canónica:\"))\n",
        "                display(Markdown(rf\"x₁(t) = ${sp.latex(x1_t_canonical)}$\"))\n",
        "                display(Markdown(rf\"x₂(t) = ${sp.latex(x2_t_canonical)}$\"))\n",
        "            else:  # Handle repeated eigenvalues (Jordan Normal Form)\n",
        "                display(Markdown(\"### Proceso de Descomposición de Jordan\"))\n",
        "\n",
        "                # The Jordan decomposition needs to be in SymPy.\n",
        "\n",
        "                # Calculate eigenvectors and eigenvalues symbolically\n",
        "                eigen = matriz_simbolica.eigenvects()\n",
        "\n",
        "                # Extract eigenvalues and eigenvectors\n",
        "                valores_propios = [e[0] for e in eigen]\n",
        "                vectores_propios = [e[2][0] for e in eigen]\n",
        "\n",
        "                if len(valores_propios) == 2:\n",
        "                    if valores_propios[0] == valores_propios[1]:  # repeated eigenvalues\n",
        "                        display(Markdown(\"#### Calculando la Descomposición de Jordan\"))\n",
        "                        J, P = matriz_simbolica.jordan_form()\n",
        "\n",
        "                        #Display results\n",
        "                        display(Markdown(\"#### Matriz P (Matriz de Vectores Propios):\"))\n",
        "                        display(P)\n",
        "                        display(Markdown(\"#### Matriz Canónica de Jordan (J):\"))\n",
        "                        display(J)\n",
        "\n",
        "                        #Solution in Jordan Basis:\n",
        "                        t = sp.symbols('t')\n",
        "                        C1, C2 = sp.symbols('C1, C2') #Constants of integration\n",
        "\n",
        "                        x1_t_Jordanbasis = (C1 + C2*t) * sp.exp(valores_propios[0] * t)\n",
        "                        x2_t_Jordanbasis = C2 * sp.exp(valores_propios[0] * t)\n",
        "\n",
        "                        display(Markdown(\"### Solución en la Base de Jordan:\"))\n",
        "                        display(Markdown(rf\"x₁(t) = ${sp.latex(x1_t_Jordanbasis)}$\"))\n",
        "                        display(Markdown(rf\"x₂(t) = ${sp.latex(x2_t_Jordanbasis)}$\"))\n",
        "\n",
        "                        # express solution in the canonical basis\n",
        "                        # [x1(t)] = P [x1_Jordanbasis(t)]\n",
        "                        # [x2(t)]     [x2_Jordanbasis(t)]\n",
        "\n",
        "                        solution_Jordanbasis = sp.Matrix([x1_t_Jordanbasis, x2_t_Jordanbasis])\n",
        "                        solution_canonical = P * solution_Jordanbasis\n",
        "\n",
        "                        # Combinar expand y factor para la máxima simplificación\n",
        "                        x1_t_canonical = sp.factor(solution_canonical[0].expand())\n",
        "                        x2_t_canonical = sp.factor(solution_canonical[1].expand())\n",
        "\n",
        "                        display(Markdown(\"### Solución en la Base Canónica:\"))\n",
        "                        display(Markdown(rf\"x₁(t) = ${sp.latex(x1_t_canonical)}$\"))\n",
        "                        display(Markdown(rf\"x₂(t) = ${sp.latex(x2_t_canonical)}$\"))\n",
        "\n",
        "        else:\n",
        "            display(Markdown(\"La matriz no es 2x2, el proceso de diagonalización no está implementado.\"))\n",
        "\n",
        "        return valores_propios_np, vectores_propios_np\n",
        "\n",
        "    except np.linalg.LinAlgError:\n",
        "        display(Markdown(\"**Error:** No se pudieron calcular los valores y vectores propios debido a un problema numérico.\"))\n",
        "        return None, None\n",
        "\n",
        "# Función para graficar el diagrama de fase con nullclines y Eigen information\n",
        "def graficar_diagrama_fase(matriz, valores_propios, vectores_propios):\n",
        "    xlim = (-10, 10)\n",
        "    ylim = (-10, 10)\n",
        "\n",
        "    x = np.linspace(xlim[0], xlim[1], 20)\n",
        "    y = np.linspace(ylim[0], ylim[1], 20)\n",
        "    X1, Y1 = np.meshgrid(x, y)\n",
        "\n",
        "    dXdt = matriz @ np.array([X1.ravel(), Y1.ravel()])\n",
        "\n",
        "    plt.figure(figsize=(8, 6))\n",
        "\n",
        "    plt.quiver(X1, Y1, dXdt[0].reshape(X1.shape), dXdt[1].reshape(Y1.shape), color='r', headlength=3)\n",
        "\n",
        "    plt.xlim(xlim)\n",
        "    plt.ylim(ylim)\n",
        "\n",
        "    plt.title('Diagrama de Fase con Nullclines')\n",
        "    plt.xlabel('x1 (Variable 1)')\n",
        "    plt.ylabel('x2 (Variable 2)')\n",
        "\n",
        "    plt.grid()\n",
        "    plt.axhline(0, color='black', lw=0.5, ls='--')\n",
        "    plt.axvline(0, color='black', lw=0.5, ls='--')\n",
        "\n",
        "    # Definir las ecuaciones del sistema\n",
        "    def sistema(x1, x2, matriz):\n",
        "        dx1dt = matriz[0, 0] * x1 + matriz[0, 1] * x2\n",
        "        dx2dt = matriz[1, 0] * x1 + matriz[1, 1] * x2\n",
        "        return dx1dt, dx2dt\n",
        "\n",
        "    # Calcular nullclines\n",
        "    x1_nullcline = np.linspace(xlim[0], xlim[1], 100)\n",
        "    x2_nullcline_1 = np.zeros_like(x1_nullcline)  # Initialize\n",
        "    x2_nullcline_2 = np.zeros_like(x1_nullcline)  # Initialize\n",
        "\n",
        "    #Define x2_nullcline.  Handle case where a[0,1] or a[1,1] is zero\n",
        "\n",
        "    if matriz[0,1] != 0:  #Avoid division by zero\n",
        "      x2_nullcline_1 = -(matriz[0,0]/matriz[0,1])*x1_nullcline   #Nullcline for dx1/dt = 0\n",
        "\n",
        "    if matriz[1,1] != 0: #Avoid division by zero\n",
        "      x2_nullcline_2 = -(matriz[1,0]/matriz[1,1])*x1_nullcline   #Nullcline for dx2/dt = 0\n",
        "\n",
        "\n",
        "    # Plot nullclines\n",
        "\n",
        "    plt.plot(x1_nullcline, x2_nullcline_1, color='blue', linestyle='--', label='Nullcline dx1/dt = 0') # Dotted line\n",
        "    plt.plot(x1_nullcline, x2_nullcline_2, color='green', linestyle='--', label='Nullcline dx2/dt = 0') # Dotted line\n",
        "\n",
        "    # Add eigenvalue and eigenvector information to the plot\n",
        "    eigenvalue_str = f\"Eigenvalues: {valores_propios[0]:.2f}, {valores_propios[1]:.2f}\"\n",
        "    eigenvector_str = f\"Eigenvectors:\\n{vectores_propios[:,0]}\\n{vectores_propios[:,1]}\"  #Display eigenvectors in column format\n",
        "\n",
        "    plt.text(xlim[0] + 1, ylim[1] - 2, eigenvalue_str + \"\\n\" + eigenvector_str, bbox=dict(facecolor='white', alpha=0.7))\n",
        "\n",
        "    plt.legend()  #Show legend for nullclines\n",
        "\n",
        "    plt.show()\n",
        "\n",
        "# Función para graficar la solución de la ecuación diferencial a través del tiempo\n",
        "def graficar_solucion_diferencial(matriz):\n",
        "    t_start = 0\n",
        "    t_stop = 10\n",
        "    t_steps = 100\n",
        "    t = np.linspace(t_start, t_stop, t_steps)\n",
        "\n",
        "    y0 = [1] * matriz.shape[0]\n",
        "\n",
        "    def sistema(y, t):\n",
        "        return matriz @ np.array(y)\n",
        "\n",
        "    solucion = odeint(sistema, y0, t)\n",
        "\n",
        "    plt.figure(figsize=(8, 6))\n",
        "\n",
        "    for i in range(solucion.shape[1]):\n",
        "        plt.plot(t, solucion[:, i], label=f'Variable {i+1} ($x_{i+1}$)')\n",
        "\n",
        "    plt.title('Solución de la Ecuación Diferencial a Través del Tiempo')\n",
        "    plt.xlabel('Tiempo')\n",
        "    plt.ylabel('Valor de las Variables')\n",
        "\n",
        "    plt.grid()\n",
        "\n",
        "    plt.legend(title=\"Variables:\", loc=\"best\")\n",
        "\n",
        "    plt.show()\n",
        "\n",
        "# Función principal con widgets interactivos (sin cambios)\n",
        "def main():\n",
        "    filas_input = widgets.IntText(value=2, description=\"Filas:\", layout=widgets.Layout(width='200px'))\n",
        "    columnas_input = widgets.IntText(value=2, description=\"Columnas:\", layout=widgets.Layout(width='200px'))\n",
        "\n",
        "    def confirmar_dimensiones(b):\n",
        "        filas = filas_input.value\n",
        "        columnas = columnas_input.value\n",
        "\n",
        "        if filas > 0 and columnas > 0:\n",
        "            clear_output(wait=True)\n",
        "            crear_matriz_interactiva(filas, columnas)\n",
        "        else:\n",
        "            display(Markdown(\"**Error:** Las dimensiones deben ser mayores a 0.\"))\n",
        "\n",
        "    boton_confirmar_dimensiones = widgets.Button(description=\"Confirmar dimensiones\")\n",
        "    boton_confirmar_dimensiones.on_click(confirmar_dimensiones)\n",
        "\n",
        "    display(Markdown(\"## Programa Interactivo para Trabajar con Matrices\"))\n",
        "    display(filas_input, columnas_input, boton_confirmar_dimensiones)\n",
        "\n",
        "main()"
      ],
      "metadata": {
        "colab": {
          "base_uri": "https://localhost:8080/",
          "height": 1000,
          "referenced_widgets": [
            "dfcda68718d04976bb78f7962fded76f",
            "36d4b834d33f470aa8d57397289178ac",
            "be2ff964d58542688ebaa571c1ded21c",
            "f957557d785242729262eaf4ae949525",
            "18525d337ce143bfad39121381eb97d4",
            "3c261823c40b4fe8a81422c69340d8d7",
            "0f604417012e49848f4d4207ba25c5b1",
            "4376806d55334240900567a79fdac6ee",
            "680c742bd59348bdac5516915d978bc7",
            "9d03fd4c7f5343bfab8a9c15ecebe3cf",
            "45ae0151b7ee4cd682c4b60e96c4837d",
            "314fdcedeb364fedbdef1172b474cac7",
            "1ad6d5e72dd644e2a474ef5eb761bb35",
            "8f5227bedd694c4faee19017c1ea7fd9",
            "d6c1fffe37784c6c9431ddd6635c5f94",
            "7df767e56d7045b295c4782764adc46c",
            "975cc7e4ef14426091b53e27793d07b9",
            "42913136334d4c7580651e50d86f6bb0",
            "1c2bd3e66a264fb997d294ad106f70e6",
            "8defac86f1584ab6b01a0f180ed0ee60",
            "c9b30795321c4fcd9228909e3d83b068",
            "7ce89e55ff854c86980aef42d75a58b3",
            "a14827e5d8d04ca7800e2d7e44bff672",
            "bce694ad06794672b1a7a34292b94715",
            "af60e6c6fc7946ddab67eb5acfdde950",
            "a89c422d12ba4fa9931522beea0d9b6a",
            "d3c3ca6e11af430fb2b6838924a8ee78",
            "24c0c8f6b52040278e95c5b24692c884"
          ]
        },
        "id": "Dn6Hu6WwkHbm",
        "outputId": "b8639eca-210c-4b6d-8317-779b3afb117c"
      },
      "execution_count": 2,
      "outputs": [
        {
          "output_type": "display_data",
          "data": {
            "text/plain": [
              "<IPython.core.display.Markdown object>"
            ],
            "text/markdown": "### Matriz ingresada:"
          },
          "metadata": {}
        },
        {
          "output_type": "display_data",
          "data": {
            "text/plain": [
              "Matrix([\n",
              "[1.0, 2.0],\n",
              "[0.0, 1.0]])"
            ],
            "text/latex": "$\\displaystyle \\left[\\begin{matrix}1.0 & 2.0\\\\0.0 & 1.0\\end{matrix}\\right]$"
          },
          "metadata": {}
        },
        {
          "output_type": "display_data",
          "data": {
            "text/plain": [
              "<IPython.core.display.Markdown object>"
            ],
            "text/markdown": "### Sistema de Ecuaciones:"
          },
          "metadata": {}
        },
        {
          "output_type": "display_data",
          "data": {
            "text/plain": [
              "<IPython.core.display.Markdown object>"
            ],
            "text/markdown": "Ecuación 1: $1.0 x_{1} + 2.0 x_{2} = 0$"
          },
          "metadata": {}
        },
        {
          "output_type": "display_data",
          "data": {
            "text/plain": [
              "<IPython.core.display.Markdown object>"
            ],
            "text/markdown": "Ecuación 2: $1.0 x_{2} = 0$"
          },
          "metadata": {}
        },
        {
          "output_type": "display_data",
          "data": {
            "text/plain": [
              "<IPython.core.display.Markdown object>"
            ],
            "text/markdown": "### Traza y Determinante"
          },
          "metadata": {}
        },
        {
          "output_type": "display_data",
          "data": {
            "text/plain": [
              "<IPython.core.display.Markdown object>"
            ],
            "text/markdown": "Traza(A) = $2.0$"
          },
          "metadata": {}
        },
        {
          "output_type": "display_data",
          "data": {
            "text/plain": [
              "<IPython.core.display.Markdown object>"
            ],
            "text/markdown": "Determinante(A) = $1.0$"
          },
          "metadata": {}
        },
        {
          "output_type": "display_data",
          "data": {
            "text/plain": [
              "<IPython.core.display.Markdown object>"
            ],
            "text/markdown": "### Procedimiento para Calcular Valores y Vectores Propios"
          },
          "metadata": {}
        },
        {
          "output_type": "display_data",
          "data": {
            "text/plain": [
              "<IPython.core.display.Markdown object>"
            ],
            "text/markdown": "### Polinomio Característico"
          },
          "metadata": {}
        },
        {
          "output_type": "display_data",
          "data": {
            "text/plain": [
              "<IPython.core.display.Markdown object>"
            ],
            "text/markdown": "$$ p(\\lambda) = λ^{2} - 2.0 λ + 1.0 $$"
          },
          "metadata": {}
        },
        {
          "output_type": "display_data",
          "data": {
            "text/plain": [
              "<IPython.core.display.Markdown object>"
            ],
            "text/markdown": "### Naturaleza de las Raíces"
          },
          "metadata": {}
        },
        {
          "output_type": "display_data",
          "data": {
            "text/plain": [
              "<IPython.core.display.Markdown object>"
            ],
            "text/markdown": "**Las raíces son reales y distintas.**"
          },
          "metadata": {}
        },
        {
          "output_type": "display_data",
          "data": {
            "text/plain": [
              "<IPython.core.display.Markdown object>"
            ],
            "text/markdown": "### Valores Propios (Raíces del Polinomio Característico)"
          },
          "metadata": {}
        },
        {
          "output_type": "display_data",
          "data": {
            "text/plain": [
              "<IPython.core.display.Markdown object>"
            ],
            "text/markdown": "$$ \\lambda_1 = 1.0 $$"
          },
          "metadata": {}
        },
        {
          "output_type": "display_data",
          "data": {
            "text/plain": [
              "<IPython.core.display.Markdown object>"
            ],
            "text/markdown": "### Valores Propios Calculados Numéricamente"
          },
          "metadata": {}
        },
        {
          "output_type": "display_data",
          "data": {
            "text/plain": [
              "<IPython.core.display.Markdown object>"
            ],
            "text/markdown": "Valor propio 1: 1.0000"
          },
          "metadata": {}
        },
        {
          "output_type": "display_data",
          "data": {
            "text/plain": [
              "<IPython.core.display.Markdown object>"
            ],
            "text/markdown": "Valor propio 2: 1.0000"
          },
          "metadata": {}
        },
        {
          "output_type": "display_data",
          "data": {
            "text/plain": [
              "<IPython.core.display.Markdown object>"
            ],
            "text/markdown": "### Vectores Propios Asociados"
          },
          "metadata": {}
        },
        {
          "output_type": "display_data",
          "data": {
            "text/plain": [
              "<IPython.core.display.Markdown object>"
            ],
            "text/markdown": "Vector propio asociado a $$ \\lambda_1 $$: [1.0000, 0.0000]"
          },
          "metadata": {}
        },
        {
          "output_type": "display_data",
          "data": {
            "text/plain": [
              "<IPython.core.display.Markdown object>"
            ],
            "text/markdown": "Vector propio asociado a $$ \\lambda_2 $$: [-1.0000, 0.0000]"
          },
          "metadata": {}
        },
        {
          "output_type": "display_data",
          "data": {
            "text/plain": [
              "<IPython.core.display.Markdown object>"
            ],
            "text/markdown": "### Proceso de Descomposición de Jordan"
          },
          "metadata": {}
        },
        {
          "output_type": "display_data",
          "data": {
            "text/plain": [
              "<IPython.core.display.Markdown object>"
            ],
            "text/markdown": "#### Calculando la Descomposición de Jordan"
          },
          "metadata": {}
        },
        {
          "output_type": "display_data",
          "data": {
            "text/plain": [
              "<IPython.core.display.Markdown object>"
            ],
            "text/markdown": "#### Matriz P (Matriz de Vectores Propios):"
          },
          "metadata": {}
        },
        {
          "output_type": "display_data",
          "data": {
            "text/plain": [
              "Matrix([\n",
              "[1.0, 1.0],\n",
              "[  0, 1.0]])"
            ],
            "text/latex": "$\\displaystyle \\left[\\begin{matrix}1.0 & 1.0\\\\0 & 1.0\\end{matrix}\\right]$"
          },
          "metadata": {}
        },
        {
          "output_type": "display_data",
          "data": {
            "text/plain": [
              "<IPython.core.display.Markdown object>"
            ],
            "text/markdown": "#### Matriz Canónica de Jordan (J):"
          },
          "metadata": {}
        },
        {
          "output_type": "display_data",
          "data": {
            "text/plain": [
              "Matrix([\n",
              "[2.0,   0],\n",
              "[  0, 1.0]])"
            ],
            "text/latex": "$\\displaystyle \\left[\\begin{matrix}2.0 & 0\\\\0 & 1.0\\end{matrix}\\right]$"
          },
          "metadata": {}
        },
        {
          "output_type": "display_data",
          "data": {
            "text/plain": [
              "<IPython.core.display.Markdown object>"
            ],
            "text/markdown": "### Solución en la Base de Jordan:"
          },
          "metadata": {}
        },
        {
          "output_type": "display_data",
          "data": {
            "text/plain": [
              "<IPython.core.display.Markdown object>"
            ],
            "text/markdown": "x₁(t) = $\\left(C_{1} + C_{2} t\\right) e^{1.0 t}$"
          },
          "metadata": {}
        },
        {
          "output_type": "display_data",
          "data": {
            "text/plain": [
              "<IPython.core.display.Markdown object>"
            ],
            "text/markdown": "x₂(t) = $C_{2} e^{1.0 t}$"
          },
          "metadata": {}
        },
        {
          "output_type": "display_data",
          "data": {
            "text/plain": [
              "<IPython.core.display.Markdown object>"
            ],
            "text/markdown": "### Solución en la Base Canónica:"
          },
          "metadata": {}
        },
        {
          "output_type": "display_data",
          "data": {
            "text/plain": [
              "<IPython.core.display.Markdown object>"
            ],
            "text/markdown": "x₁(t) = $1.0 \\left(C_{1} + C_{2} t + C_{2}\\right) e^{1.0 t}$"
          },
          "metadata": {}
        },
        {
          "output_type": "display_data",
          "data": {
            "text/plain": [
              "<IPython.core.display.Markdown object>"
            ],
            "text/markdown": "x₂(t) = $1.0 C_{2} e^{1.0 t}$"
          },
          "metadata": {}
        },
        {
          "output_type": "display_data",
          "data": {
            "text/plain": [
              "<Figure size 800x600 with 1 Axes>"
            ],
            "image/png": "[encoded data removed]"
          },
          "metadata": {}
        },
        {
          "output_type": "display_data",
          "data": {
            "text/plain": [
              "<Figure size 800x600 with 1 Axes>"
            ],
            "image/png": "[encoded data removed]"
          },
          "metadata": {}
        }
      ]
    }
  ]
}